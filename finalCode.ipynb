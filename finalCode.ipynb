{
 "cells": [
  {
   "cell_type": "markdown",
   "metadata": {},
   "source": [
    "## Title:Militant operations of Indian Army\n"
   ]
  },
  {
   "cell_type": "code",
   "execution_count": 1,
   "metadata": {},
   "outputs": [
    {
     "name": "stdout",
     "output_type": "stream",
     "text": [
      "Populating the interactive namespace from numpy and matplotlib\n"
     ]
    }
   ],
   "source": [
    "##Exploring Traveler data\n",
    "import pandas as pd\n",
    "import matplotlib.pyplot as plt\n",
    "%pylab inline \n",
    "train_file=\"deaths-in-india-satp-dfe_Final.csv\"\n",
    "\n",
    "data = pd.read_csv(train_file, header = 0,index_col=None)"
   ]
  },
  {
   "cell_type": "markdown",
   "metadata": {},
   "source": [
    "## Splitting Data into train data and test data"
   ]
  },
  {
   "cell_type": "code",
   "execution_count": 2,
   "metadata": {},
   "outputs": [
    {
     "name": "stderr",
     "output_type": "stream",
     "text": [
      "/home/shashwat/anaconda3/lib/python3.6/site-packages/pandas/core/frame.py:3694: SettingWithCopyWarning: \n",
      "A value is trying to be set on a copy of a slice from a DataFrame\n",
      "\n",
      "See the caveats in the documentation: http://pandas.pydata.org/pandas-docs/stable/indexing.html#indexing-view-versus-copy\n",
      "  errors=errors)\n"
     ]
    }
   ],
   "source": [
    "df_train = data.head(22000)\n",
    "\n",
    "df_test = data.tail(5000)\n",
    "df_test.drop('verb',axis = 1, inplace = True)"
   ]
  },
  {
   "cell_type": "markdown",
   "metadata": {},
   "source": [
    "## Conacatenate train and test data for Preprocessing"
   ]
  },
  {
   "cell_type": "code",
   "execution_count": 3,
   "metadata": {},
   "outputs": [
    {
     "name": "stderr",
     "output_type": "stream",
     "text": [
      "/home/shashwat/anaconda3/lib/python3.6/site-packages/ipykernel_launcher.py:1: FutureWarning: Sorting because non-concatenation axis is not aligned. A future version\n",
      "of pandas will change to not sort by default.\n",
      "\n",
      "To accept the future behavior, pass 'sort=True'.\n",
      "\n",
      "To retain the current behavior and silence the warning, pass sort=False\n",
      "\n",
      "  \"\"\"Entry point for launching an IPython kernel.\n"
     ]
    }
   ],
   "source": [
    "data = pd.concat((df_train, df_test), axis=0, ignore_index=True)"
   ]
  },
  {
   "cell_type": "markdown",
   "metadata": {},
   "source": [
    "## Preprocessing "
   ]
  },
  {
   "cell_type": "code",
   "execution_count": 4,
   "metadata": {
    "scrolled": false
   },
   "outputs": [
    {
     "name": "stdout",
     "output_type": "stream",
     "text": [
      "Dropping _golden\n",
      "Dropping _unit_state\n",
      "Dropping _trusted_judgments\n",
      "Dropping _last_judgment_at\n",
      "Dropping accuracy\n",
      "Dropping canddist\n",
      "Dropping civilians_gold\n",
      "Dropping date\n",
      "Dropping militants_terrorists_insurgents_gold\n",
      "Dropping object\n",
      "Dropping objectcleanpp\n",
      "Dropping objectcount\n",
      "Dropping pid\n",
      "Dropping rid\n",
      "Dropping security_forces_gold\n",
      "Dropping sentence\n",
      "Dropping sid\n",
      "Dropping srid\n",
      "Dropping state\n",
      "Dropping subject\n",
      "Dropping svmlabel2\n",
      "Dropping svmlabel2prob\n",
      "Dropping svmobjecttypelab\n",
      "Dropping svmobjecttypeprob\n",
      "Dropping total_number_of_people_gold\n"
     ]
    }
   ],
   "source": [
    "#dropping _goden as this attribute contains same value for all of its records\n",
    "data.drop('_golden', axis = 1, inplace = True)\n",
    "print(\"Dropping _golden\")\n",
    "\n",
    "#dropping _unit_state as this attribute contains same value for all of its records\n",
    "data.drop('_unit_state',axis = 1, inplace = True)\n",
    "print(\"Dropping _unit_state\")\n",
    "\n",
    "#dropping _trusted_judgments as this attribute contains same value for all of its records\n",
    "data.drop('_trusted_judgments',axis = 1, inplace = True)\n",
    "print(\"Dropping _trusted_judgments\")\n",
    "\n",
    "#dropping _last_judgment_at as this does not help for our prediction\n",
    "data.drop('_last_judgment_at',axis = 1, inplace = True)\n",
    "print(\"Dropping _last_judgment_at\")\n",
    "\n",
    "#dropping _accuracy as this attribute contains same value for all of its records\n",
    "data.drop('accuracy',axis = 1, inplace = True)\n",
    "print(\"Dropping accuracy\")\n",
    "\n",
    "#dropping canddist as this attribute does not help for our prediction\n",
    "data.drop('canddist',axis = 1, inplace = True)\n",
    "print(\"Dropping canddist\")\n",
    "\n",
    "#dropping civilians_gold as this attribute contains same value for all of its records\n",
    "data.drop('civilians_gold',axis = 1, inplace = True)\n",
    "print(\"Dropping civilians_gold\")\n",
    "\n",
    "#dropping date as this attribute does not help for our prediction\n",
    "data.drop('date',axis = 1, inplace = True)\n",
    "print(\"Dropping date\")\n",
    "\n",
    "#dropping militants_terrorists_insurgents_gold as this attribute  does not contain any value for all of its records\n",
    "data.drop('militants_terrorists_insurgents_gold',axis = 1, inplace = True)\n",
    "print(\"Dropping militants_terrorists_insurgents_gold\")\n",
    "\n",
    "#droppin object as it is a redundant attribute\n",
    "data.drop('object',axis = 1, inplace = True)\n",
    "print(\"Dropping object\")\n",
    "\n",
    "#dropping objectcleanpp as this attribute does nothelp for our prediction\n",
    "data.drop('objectcleanpp',axis = 1, inplace = True)\n",
    "print(\"Dropping objectcleanpp\")\n",
    "\n",
    "#droppin object as it is a redundant attribute\n",
    "data.drop('objectcount',axis = 1, inplace = True)\n",
    "print(\"Dropping objectcount\")\n",
    "\n",
    "#droppin object as does not help for our prediction\n",
    "data.drop('pid',axis = 1, inplace = True)\n",
    "print(\"Dropping pid\")\n",
    "\n",
    "#droppin object as does not help for our prediction\n",
    "data.drop('rid',axis = 1, inplace = True)\n",
    "print(\"Dropping rid\")\n",
    "\n",
    "#dropping security_forces_gold as this attribute does not contain any value for all of its records\n",
    "data.drop('security_forces_gold',axis = 1, inplace = True)\n",
    "print(\"Dropping security_forces_gold\")\n",
    "\n",
    "\n",
    "#dropping objectcleanpp as this attribute does nothelp for our prediction\n",
    "data.drop('sentence',axis = 1, inplace = True)\n",
    "print(\"Dropping sentence\")\n",
    "\n",
    "#dropping sid as this attribute is not helpful possible prediction of future attacks\n",
    "data.drop('sid',axis = 1, inplace = True)\n",
    "print(\"Dropping sid\")\n",
    "\n",
    "#dropping srid as this attribute does not contain any value for all of its records\n",
    "data.drop('srid',axis = 1, inplace = True)\n",
    "print(\"Dropping srid\")\n",
    "\n",
    "#droppin state as it is a redundant attribute\n",
    "data.drop('state',axis = 1, inplace = True)\n",
    "print(\"Dropping state\")\n",
    "\n",
    "#droppin state as it is not helpful possible prediction of future attacks\n",
    "data.drop('subject',axis = 1, inplace = True)\n",
    "print(\"Dropping subject\")\n",
    "\n",
    "#dropping svmlabel2 as this attribute is not helpful possible prediction of future attacks\n",
    "data.drop('svmlabel2',axis = 1, inplace = True)\n",
    "print(\"Dropping svmlabel2\")\n",
    "\n",
    "#dropping svmlabel2prob as this attribute is not helpful possible prediction of future attacks\n",
    "data.drop('svmlabel2prob',axis = 1, inplace = True)\n",
    "print(\"Dropping svmlabel2prob\")\n",
    "\n",
    "#dropping svmobjecttypelab as this attribute contains same value for all of its records\n",
    "data.drop('svmobjecttypelab',axis = 1, inplace = True)\n",
    "print(\"Dropping svmobjecttypelab\")\n",
    "\n",
    "#dropping svmobjecttypeprob as this attribute is not helpful possible prediction of future attacks\n",
    "data.drop('svmobjecttypeprob',axis = 1, inplace = True)\n",
    "print(\"Dropping svmobjecttypeprob\")\n",
    "\n",
    "#dropping total_number_of_people_gold as this attribute does not contain any value for all of its records\n",
    "data.drop('total_number_of_people_gold',axis = 1, inplace = True)\n",
    "print(\"Dropping total_number_of_people_gold\")\n"
   ]
  },
  {
   "cell_type": "markdown",
   "metadata": {},
   "source": [
    "### Computing NULL values in all attributes"
   ]
  },
  {
   "cell_type": "code",
   "execution_count": 38,
   "metadata": {},
   "outputs": [
    {
     "data": {
      "text/plain": [
       "Series([], dtype: float64)"
      ]
     },
     "execution_count": 38,
     "metadata": {},
     "output_type": "execute_result"
    }
   ],
   "source": [
    "# Compute Null percentage of each feature.\n",
    "df_all_null = (data.isnull().sum() / data.shape[0]) * 100\n",
    "#df_all_null = (df_all.isnull().sum())\n",
    "df_all_null[df_all_null > 0]"
   ]
  },
  {
   "cell_type": "code",
   "execution_count": 6,
   "metadata": {},
   "outputs": [
    {
     "data": {
      "text/plain": [
       "<matplotlib.axes._subplots.AxesSubplot at 0x7f58d72ca438>"
      ]
     },
     "execution_count": 6,
     "metadata": {},
     "output_type": "execute_result"
    },
    {
     "data": {
      "image/png": "[encoded data removed]",
      "text/plain": [
       "<Figure size 432x288 with 1 Axes>"
      ]
     },
     "metadata": {},
     "output_type": "display_data"
    }
   ],
   "source": [
    "df_all_null.plot(kind=\"bar\",color=\"red\",rot=80)"
   ]
  },
  {
   "cell_type": "markdown",
   "metadata": {},
   "source": [
    "## Filling missing values"
   ]
  },
  {
   "cell_type": "code",
   "execution_count": 7,
   "metadata": {},
   "outputs": [],
   "source": [
    "data.to_csv(\"preprocessed.csv\")"
   ]
  },
  {
   "cell_type": "code",
   "execution_count": 36,
   "metadata": {},
   "outputs": [],
   "source": [
    "# Fill state_full column\n",
    "print(\"Filling state_full column...\")\n",
    "data['state_full'].fillna('NA', inplace=False)\n",
    "print(\"Filling state_full column...completed\")\n",
    "\n",
    "\n",
    "\n",
    "data = data.dropna(axis = 0, how ='any') "
   ]
  },
  {
   "cell_type": "markdown",
   "metadata": {},
   "source": [
    "# Computing null after dropping"
   ]
  },
  {
   "cell_type": "code",
   "execution_count": null,
   "metadata": {},
   "outputs": [],
   "source": [
    "# Compute Null percentage of each feature.\n",
    "df_all_null = (data.isnull().sum() / data.shape[0]) * 100\n",
    "#df_all_null = (df_all.isnull().sum())\n",
    "df_all_null[df_all_null > 0]\n",
    "df_all_null.plot(kind=\"bar\",color=\"red\",rot=80)"
   ]
  },
  {
   "cell_type": "markdown",
   "metadata": {},
   "source": [
    "## Data Transformation"
   ]
  },
  {
   "cell_type": "code",
   "execution_count": 9,
   "metadata": {},
   "outputs": [],
   "source": [
    "data['report_date'] = pd.to_datetime(data.report_date)\n",
    "#converting into Standard date format Y-M-D\n",
    "data['report_date'] = pd.to_datetime(data['report_date'], format='%Y-%m-%d')"
   ]
  },
  {
   "cell_type": "code",
   "execution_count": 10,
   "metadata": {},
   "outputs": [
    {
     "data": {
      "text/plain": [
       "0       2000-03-07\n",
       "1       2000-03-07\n",
       "2       2000-03-07\n",
       "3       2000-03-07\n",
       "4       2000-03-08\n",
       "5       2000-03-08\n",
       "6       2000-03-09\n",
       "7       2000-03-09\n",
       "8       2000-03-12\n",
       "9       2000-03-12\n",
       "10      2000-03-13\n",
       "11      2000-03-14\n",
       "12      2000-03-15\n",
       "13      2000-03-15\n",
       "14      2000-03-15\n",
       "15      2000-03-15\n",
       "16      2000-03-15\n",
       "17      2000-03-16\n",
       "18      2000-03-17\n",
       "19      2000-03-17\n",
       "20      2000-03-17\n",
       "21      2000-03-18\n",
       "22      2000-03-18\n",
       "23      2000-03-18\n",
       "24      2000-03-18\n",
       "25      2000-03-18\n",
       "26      2000-03-18\n",
       "27      2000-03-21\n",
       "28      2000-03-21\n",
       "29      2000-03-22\n",
       "           ...    \n",
       "26970   2009-09-19\n",
       "26971   2006-05-03\n",
       "26972   2002-02-19\n",
       "26973   2006-07-15\n",
       "26974   2002-01-13\n",
       "26975   2010-05-13\n",
       "26976   2010-11-08\n",
       "26977   2006-09-21\n",
       "26978   2008-06-14\n",
       "26979   2000-03-18\n",
       "26980   2010-01-11\n",
       "26981   2006-09-10\n",
       "26982   2011-07-24\n",
       "26983   2013-04-08\n",
       "26984   2005-05-25\n",
       "26985   2000-07-14\n",
       "26986   2001-05-20\n",
       "26987   2001-01-16\n",
       "26988   2010-08-13\n",
       "26989   2000-11-29\n",
       "26990   2006-04-11\n",
       "26991   2008-03-29\n",
       "26992   2011-07-18\n",
       "26993   2013-06-23\n",
       "26994   2003-12-14\n",
       "26995   2013-03-05\n",
       "26996   2002-09-19\n",
       "26997   2012-01-22\n",
       "26998   2010-10-01\n",
       "26999   2010-03-27\n",
       "Name: report_date, Length: 27000, dtype: datetime64[ns]"
      ]
     },
     "execution_count": 10,
     "metadata": {},
     "output_type": "execute_result"
    }
   ],
   "source": [
    "data['report_date']"
   ]
  },
  {
   "cell_type": "markdown",
   "metadata": {},
   "source": [
    "## Data addition"
   ]
  },
  {
   "cell_type": "code",
   "execution_count": 11,
   "metadata": {},
   "outputs": [],
   "source": [
    "#adding new columns\n",
    "data['attack_month'] = data['report_date'].dt.month\n",
    "data['attack_day'] = data['report_date'].dt.day"
   ]
  },
  {
   "cell_type": "code",
   "execution_count": 12,
   "metadata": {},
   "outputs": [],
   "source": [
    "data.drop('report_date',axis = 1, inplace = True)"
   ]
  },
  {
   "cell_type": "markdown",
   "metadata": {},
   "source": [
    "## Data transformation"
   ]
  },
  {
   "cell_type": "code",
   "execution_count": 13,
   "metadata": {},
   "outputs": [],
   "source": [
    "#replacing similar data of the attribute\n",
    "replaceVerb=data['verb']\n",
    "import re\n",
    "\n",
    "for var in replaceVerb:\n",
    "    if(re.search(\"killing\",str(var)) or re.search(\"kill\",str(var))):\n",
    "        var2='killed'\n",
    "        data['verb'].replace(var,var2,inplace=True)\n",
    "    elif(re.search(\"arresting\",str(var)) or re.search(\"arrest\",str(var))):\n",
    "        var2='arrested'\n",
    "        data['verb'].replace(var,var2,inplace=True)\n",
    "    elif(re.search(\"surrender\",str(var)) or re.search(\"surrendering\",str(var))):\n",
    "        var2='surrendered'\n",
    "        data['verb'].replace(var,var2,inplace=True)\n",
    "    elif(re.search(\"injuring\",str(var)) or re.search(\"injure\",str(var))):\n",
    "        var2='injured'\n",
    "        data['verb'].replace(var,var2,inplace=True)"
   ]
  },
  {
   "cell_type": "markdown",
   "metadata": {},
   "source": [
    "## One Hot Encoding "
   ]
  },
  {
   "cell_type": "code",
   "execution_count": 14,
   "metadata": {},
   "outputs": [
    {
     "name": "stdout",
     "output_type": "stream",
     "text": [
      "One Hot Encoding categorical data...\n",
      "One Hot Encoding categorical data...completed\n"
     ]
    }
   ],
   "source": [
    "def convert_to_binary(df, column_to_convert):\n",
    "    categories = list(df[column_to_convert].drop_duplicates())\n",
    "\n",
    "    for category in categories:\n",
    "        cat_name = str(category).replace(\" \", \"_\").replace(\"(\", \"\").replace(\")\", \"\").replace(\"/\", \"_\").replace(\"-\", \"\").lower()\n",
    "        col_name = column_to_convert[:4] + '_' + cat_name[:10]\n",
    "        df[col_name] = 0\n",
    "        df.loc[(df[column_to_convert] == category), col_name] = 1\n",
    "\n",
    "    return df\n",
    "\n",
    "# One Hot Encoding\n",
    "print(\"One Hot Encoding categorical data...\")\n",
    "columns_to_convert = ['state_full','svmlabel1','districtmatch']\n",
    "\n",
    "for column in columns_to_convert:\n",
    "    data = convert_to_binary(data,column)\n",
    "    data.drop(column, axis=1, inplace=True)\n",
    "print(\"One Hot Encoding categorical data...completed\")"
   ]
  },
  {
   "cell_type": "code",
   "execution_count": 15,
   "metadata": {},
   "outputs": [],
   "source": [
    "#to find total number of deaths based on profession \n",
    "security=data['svml_security'].sum()\n",
    "\n",
    "terrorist=data['svml_terrorist'].sum()\n",
    "\n",
    "civilian=data['svml_civilian'].sum()\n",
    "\n",
    "public=data['svml_public'].sum()\n",
    "\n",
    "private=data['svml_private'].sum()\n"
   ]
  },
  {
   "cell_type": "code",
   "execution_count": 16,
   "metadata": {},
   "outputs": [
    {
     "data": {
      "image/png": "[encoded data removed]",
      "text/plain": [
       "<Figure size 432x288 with 1 Axes>"
      ]
     },
     "metadata": {},
     "output_type": "display_data"
    }
   ],
   "source": [
    "# Pie chart\n",
    "labels = 'security','public', 'terrorist', 'civilian' ,'private'\n",
    "sizes = [security,public,terrorist,civilian,private]\n",
    "explode = (0, 0, 0.2, 0.1, 0)  \n",
    "\n",
    "fig1, ax1 = plt.subplots()\n",
    "ax1.pie(sizes, explode =explode ,labels=labels, autopct='%1.1f%%',\n",
    "        shadow=True, startangle=90)\n",
    "ax1.axis('equal')\n",
    "\n",
    "plt.show()"
   ]
  },
  {
   "cell_type": "code",
   "execution_count": 17,
   "metadata": {},
   "outputs": [],
   "source": [
    "#from above pie cart we can say that major part of killed were terrorists"
   ]
  },
  {
   "cell_type": "markdown",
   "metadata": {},
   "source": [
    "## Save Preprocessed Data to csv file"
   ]
  },
  {
   "cell_type": "code",
   "execution_count": 18,
   "metadata": {},
   "outputs": [],
   "source": [
    "file4 = 'ppppreprocessed.csv'\n",
    "data.to_csv(file4)"
   ]
  },
  {
   "cell_type": "code",
   "execution_count": 39,
   "metadata": {},
   "outputs": [],
   "source": [
    "#create data frame for classification\n",
    "\n",
    "df_all =  pd.DataFrame(data=data)"
   ]
  },
  {
   "cell_type": "markdown",
   "metadata": {},
   "source": [
    "## Split preprocessed data into train data and test data"
   ]
  },
  {
   "cell_type": "code",
   "execution_count": 40,
   "metadata": {},
   "outputs": [],
   "source": [
    "df_train = df_all.head(22000)\n",
    "df_test = df_all.tail(5000)\n",
    "df_all1 = df_all"
   ]
  },
  {
   "cell_type": "code",
   "execution_count": 41,
   "metadata": {},
   "outputs": [
    {
     "name": "stderr",
     "output_type": "stream",
     "text": [
      "/home/shashwat/anaconda3/lib/python3.6/site-packages/pandas/core/frame.py:3694: SettingWithCopyWarning: \n",
      "A value is trying to be set on a copy of a slice from a DataFrame\n",
      "\n",
      "See the caveats in the documentation: http://pandas.pydata.org/pandas-docs/stable/indexing.html#indexing-view-versus-copy\n",
      "  errors=errors)\n"
     ]
    }
   ],
   "source": [
    "#dropping column which we want to predivt from test data\n",
    "df_test.drop('verb',axis = 1, inplace = True)"
   ]
  },
  {
   "cell_type": "code",
   "execution_count": 42,
   "metadata": {},
   "outputs": [],
   "source": [
    "df_all.drop('verb',axis = 1, inplace = True)"
   ]
  },
  {
   "cell_type": "code",
   "execution_count": 43,
   "metadata": {
    "scrolled": false
   },
   "outputs": [],
   "source": [
    "#temporary variables\n",
    "df_train1 = df_train\n",
    "df_test1 = df_test\n",
    "df_all1 = df_all"
   ]
  },
  {
   "cell_type": "code",
   "execution_count": 44,
   "metadata": {},
   "outputs": [
    {
     "data": {
      "text/plain": [
       "Index(['_unit_id', 'civilians', 'eventid', 'militants_terrorists_insurgents',\n",
       "       'security_forces', 'svmlabel1prob', 'verb', 'attack_month',\n",
       "       'attack_day', 'stat_jammu_and_',\n",
       "       ...\n",
       "       'dist_parganas_n', 'dist_sheopur', 'dist_dantewara', 'dist_mandsaur',\n",
       "       'dist_moradabad', 'dist_west_medin', 'dist_sikar', 'dist_almora',\n",
       "       'dist_datiya', 'dist_gautambudh'],\n",
       "      dtype='object', length=583)"
      ]
     },
     "execution_count": 44,
     "metadata": {},
     "output_type": "execute_result"
    }
   ],
   "source": [
    "df_train1.columns"
   ]
  },
  {
   "cell_type": "code",
   "execution_count": 45,
   "metadata": {},
   "outputs": [
    {
     "data": {
      "text/plain": [
       "0      killed\n",
       "1      killed\n",
       "2    arrested\n",
       "4      killed\n",
       "5      killed\n",
       "Name: verb, dtype: object"
      ]
     },
     "execution_count": 45,
     "metadata": {},
     "output_type": "execute_result"
    }
   ],
   "source": [
    "df_train['verb'].head()"
   ]
  },
  {
   "cell_type": "code",
   "execution_count": 46,
   "metadata": {},
   "outputs": [
    {
     "data": {
      "text/plain": [
       "Index(['_unit_id', 'civilians', 'eventid', 'militants_terrorists_insurgents',\n",
       "       'security_forces', 'svmlabel1prob', 'attack_month', 'attack_day',\n",
       "       'stat_jammu_and_', 'stat_nan',\n",
       "       ...\n",
       "       'dist_parganas_n', 'dist_sheopur', 'dist_dantewara', 'dist_mandsaur',\n",
       "       'dist_moradabad', 'dist_west_medin', 'dist_sikar', 'dist_almora',\n",
       "       'dist_datiya', 'dist_gautambudh'],\n",
       "      dtype='object', length=582)"
      ]
     },
     "execution_count": 46,
     "metadata": {},
     "output_type": "execute_result"
    }
   ],
   "source": [
    "df_test1.columns"
   ]
  },
  {
   "cell_type": "code",
   "execution_count": 47,
   "metadata": {},
   "outputs": [
    {
     "data": {
      "text/plain": [
       "Index(['_unit_id', 'civilians', 'eventid', 'militants_terrorists_insurgents',\n",
       "       'security_forces', 'svmlabel1prob', 'attack_month', 'attack_day',\n",
       "       'stat_jammu_and_', 'stat_nan',\n",
       "       ...\n",
       "       'dist_parganas_n', 'dist_sheopur', 'dist_dantewara', 'dist_mandsaur',\n",
       "       'dist_moradabad', 'dist_west_medin', 'dist_sikar', 'dist_almora',\n",
       "       'dist_datiya', 'dist_gautambudh'],\n",
       "      dtype='object', length=582)"
      ]
     },
     "execution_count": 47,
     "metadata": {},
     "output_type": "execute_result"
    }
   ],
   "source": [
    "df_all.columns"
   ]
  },
  {
   "cell_type": "code",
   "execution_count": 48,
   "metadata": {},
   "outputs": [],
   "source": [
    "#seeting _unit_id as a index of dataframe\n",
    "df_train1.set_index('_unit_id', inplace=True)\n"
   ]
  },
  {
   "cell_type": "markdown",
   "metadata": {},
   "source": [
    "## Label Encoding for Categorical data"
   ]
  },
  {
   "cell_type": "code",
   "execution_count": 49,
   "metadata": {},
   "outputs": [],
   "source": [
    "from sklearn.preprocessing import LabelEncoder\n",
    "\n",
    "id_train = df_train1.index.values\n",
    "labels = df_train1['verb']\n",
    "\n",
    "# Label encoding for the categorical data eg: ...NDF -> 7, US -> 10...\n",
    "le = LabelEncoder()\n",
    "y = le.fit_transform(labels)\n",
    "X = df_train1.drop('verb', axis=1, inplace=False)"
   ]
  },
  {
   "cell_type": "code",
   "execution_count": 50,
   "metadata": {},
   "outputs": [
    {
     "data": {
      "text/plain": [
       "(18737, 581)"
      ]
     },
     "execution_count": 50,
     "metadata": {},
     "output_type": "execute_result"
    }
   ],
   "source": [
    "X.shape"
   ]
  },
  {
   "cell_type": "code",
   "execution_count": 51,
   "metadata": {},
   "outputs": [
    {
     "data": {
      "text/html": [
       "<div>\n",
       "<style scoped>\n",
       "    .dataframe tbody tr th:only-of-type {\n",
       "        vertical-align: middle;\n",
       "    }\n",
       "\n",
       "    .dataframe tbody tr th {\n",
       "        vertical-align: top;\n",
       "    }\n",
       "\n",
       "    .dataframe thead th {\n",
       "        text-align: right;\n",
       "    }\n",
       "</style>\n",
       "<table border=\"1\" class=\"dataframe\">\n",
       "  <thead>\n",
       "    <tr style=\"text-align: right;\">\n",
       "      <th></th>\n",
       "      <th>civilians</th>\n",
       "      <th>eventid</th>\n",
       "      <th>militants_terrorists_insurgents</th>\n",
       "      <th>security_forces</th>\n",
       "      <th>svmlabel1prob</th>\n",
       "      <th>attack_month</th>\n",
       "      <th>attack_day</th>\n",
       "      <th>stat_jammu_and_</th>\n",
       "      <th>stat_nan</th>\n",
       "      <th>stat_assam</th>\n",
       "      <th>...</th>\n",
       "      <th>dist_parganas_n</th>\n",
       "      <th>dist_sheopur</th>\n",
       "      <th>dist_dantewara</th>\n",
       "      <th>dist_mandsaur</th>\n",
       "      <th>dist_moradabad</th>\n",
       "      <th>dist_west_medin</th>\n",
       "      <th>dist_sikar</th>\n",
       "      <th>dist_almora</th>\n",
       "      <th>dist_datiya</th>\n",
       "      <th>dist_gautambudh</th>\n",
       "    </tr>\n",
       "    <tr>\n",
       "      <th>_unit_id</th>\n",
       "      <th></th>\n",
       "      <th></th>\n",
       "      <th></th>\n",
       "      <th></th>\n",
       "      <th></th>\n",
       "      <th></th>\n",
       "      <th></th>\n",
       "      <th></th>\n",
       "      <th></th>\n",
       "      <th></th>\n",
       "      <th></th>\n",
       "      <th></th>\n",
       "      <th></th>\n",
       "      <th></th>\n",
       "      <th></th>\n",
       "      <th></th>\n",
       "      <th></th>\n",
       "      <th></th>\n",
       "      <th></th>\n",
       "      <th></th>\n",
       "      <th></th>\n",
       "    </tr>\n",
       "  </thead>\n",
       "  <tbody>\n",
       "    <tr>\n",
       "      <th>711601341</th>\n",
       "      <td>0.0</td>\n",
       "      <td>3</td>\n",
       "      <td>3.0</td>\n",
       "      <td>1.0</td>\n",
       "      <td>0.997059</td>\n",
       "      <td>3</td>\n",
       "      <td>7</td>\n",
       "      <td>1</td>\n",
       "      <td>0</td>\n",
       "      <td>0</td>\n",
       "      <td>...</td>\n",
       "      <td>0</td>\n",
       "      <td>0</td>\n",
       "      <td>0</td>\n",
       "      <td>0</td>\n",
       "      <td>0</td>\n",
       "      <td>0</td>\n",
       "      <td>0</td>\n",
       "      <td>0</td>\n",
       "      <td>0</td>\n",
       "      <td>0</td>\n",
       "    </tr>\n",
       "    <tr>\n",
       "      <th>711601342</th>\n",
       "      <td>0.0</td>\n",
       "      <td>4</td>\n",
       "      <td>7.0</td>\n",
       "      <td>0.0</td>\n",
       "      <td>0.979219</td>\n",
       "      <td>3</td>\n",
       "      <td>7</td>\n",
       "      <td>1</td>\n",
       "      <td>0</td>\n",
       "      <td>0</td>\n",
       "      <td>...</td>\n",
       "      <td>0</td>\n",
       "      <td>0</td>\n",
       "      <td>0</td>\n",
       "      <td>0</td>\n",
       "      <td>0</td>\n",
       "      <td>0</td>\n",
       "      <td>0</td>\n",
       "      <td>0</td>\n",
       "      <td>0</td>\n",
       "      <td>0</td>\n",
       "    </tr>\n",
       "    <tr>\n",
       "      <th>711601343</th>\n",
       "      <td>0.0</td>\n",
       "      <td>13</td>\n",
       "      <td>1.0</td>\n",
       "      <td>0.0</td>\n",
       "      <td>0.948564</td>\n",
       "      <td>3</td>\n",
       "      <td>7</td>\n",
       "      <td>0</td>\n",
       "      <td>0</td>\n",
       "      <td>0</td>\n",
       "      <td>...</td>\n",
       "      <td>0</td>\n",
       "      <td>0</td>\n",
       "      <td>0</td>\n",
       "      <td>0</td>\n",
       "      <td>0</td>\n",
       "      <td>0</td>\n",
       "      <td>0</td>\n",
       "      <td>0</td>\n",
       "      <td>0</td>\n",
       "      <td>0</td>\n",
       "    </tr>\n",
       "    <tr>\n",
       "      <th>711601345</th>\n",
       "      <td>0.0</td>\n",
       "      <td>41</td>\n",
       "      <td>2.0</td>\n",
       "      <td>0.0</td>\n",
       "      <td>0.858030</td>\n",
       "      <td>3</td>\n",
       "      <td>8</td>\n",
       "      <td>0</td>\n",
       "      <td>0</td>\n",
       "      <td>0</td>\n",
       "      <td>...</td>\n",
       "      <td>0</td>\n",
       "      <td>0</td>\n",
       "      <td>0</td>\n",
       "      <td>0</td>\n",
       "      <td>0</td>\n",
       "      <td>0</td>\n",
       "      <td>0</td>\n",
       "      <td>0</td>\n",
       "      <td>0</td>\n",
       "      <td>0</td>\n",
       "    </tr>\n",
       "    <tr>\n",
       "      <th>711601346</th>\n",
       "      <td>0.0</td>\n",
       "      <td>46</td>\n",
       "      <td>1.0</td>\n",
       "      <td>0.0</td>\n",
       "      <td>0.522630</td>\n",
       "      <td>3</td>\n",
       "      <td>8</td>\n",
       "      <td>0</td>\n",
       "      <td>0</td>\n",
       "      <td>1</td>\n",
       "      <td>...</td>\n",
       "      <td>0</td>\n",
       "      <td>0</td>\n",
       "      <td>0</td>\n",
       "      <td>0</td>\n",
       "      <td>0</td>\n",
       "      <td>0</td>\n",
       "      <td>0</td>\n",
       "      <td>0</td>\n",
       "      <td>0</td>\n",
       "      <td>0</td>\n",
       "    </tr>\n",
       "  </tbody>\n",
       "</table>\n",
       "<p>5 rows × 581 columns</p>\n",
       "</div>"
      ],
      "text/plain": [
       "           civilians  eventid  militants_terrorists_insurgents  \\\n",
       "_unit_id                                                         \n",
       "711601341        0.0        3                              3.0   \n",
       "711601342        0.0        4                              7.0   \n",
       "711601343        0.0       13                              1.0   \n",
       "711601345        0.0       41                              2.0   \n",
       "711601346        0.0       46                              1.0   \n",
       "\n",
       "           security_forces  svmlabel1prob  attack_month  attack_day  \\\n",
       "_unit_id                                                              \n",
       "711601341              1.0       0.997059             3           7   \n",
       "711601342              0.0       0.979219             3           7   \n",
       "711601343              0.0       0.948564             3           7   \n",
       "711601345              0.0       0.858030             3           8   \n",
       "711601346              0.0       0.522630             3           8   \n",
       "\n",
       "           stat_jammu_and_  stat_nan  stat_assam       ...         \\\n",
       "_unit_id                                               ...          \n",
       "711601341                1         0           0       ...          \n",
       "711601342                1         0           0       ...          \n",
       "711601343                0         0           0       ...          \n",
       "711601345                0         0           0       ...          \n",
       "711601346                0         0           1       ...          \n",
       "\n",
       "           dist_parganas_n  dist_sheopur  dist_dantewara  dist_mandsaur  \\\n",
       "_unit_id                                                                  \n",
       "711601341                0             0               0              0   \n",
       "711601342                0             0               0              0   \n",
       "711601343                0             0               0              0   \n",
       "711601345                0             0               0              0   \n",
       "711601346                0             0               0              0   \n",
       "\n",
       "           dist_moradabad  dist_west_medin  dist_sikar  dist_almora  \\\n",
       "_unit_id                                                              \n",
       "711601341               0                0           0            0   \n",
       "711601342               0                0           0            0   \n",
       "711601343               0                0           0            0   \n",
       "711601345               0                0           0            0   \n",
       "711601346               0                0           0            0   \n",
       "\n",
       "           dist_datiya  dist_gautambudh  \n",
       "_unit_id                                 \n",
       "711601341            0                0  \n",
       "711601342            0                0  \n",
       "711601343            0                0  \n",
       "711601345            0                0  \n",
       "711601346            0                0  \n",
       "\n",
       "[5 rows x 581 columns]"
      ]
     },
     "execution_count": 51,
     "metadata": {},
     "output_type": "execute_result"
    }
   ],
   "source": [
    "X.head()"
   ]
  },
  {
   "cell_type": "code",
   "execution_count": 52,
   "metadata": {},
   "outputs": [],
   "source": [
    "from sklearn import cross_validation\n",
    "## Spliting of training dataset into 70% training data and 30% testing data randomly\n",
    "features_train, features_test, labels_train, labels_test = cross_validation.train_test_split(X, y, test_size=0.3, random_state=42)"
   ]
  },
  {
   "cell_type": "markdown",
   "metadata": {},
   "source": [
    "# Gradient Boosting"
   ]
  },
  {
   "cell_type": "code",
   "execution_count": 69,
   "metadata": {},
   "outputs": [
    {
     "name": "stdout",
     "output_type": "stream",
     "text": [
      "Accuracy: 66.47%\n"
     ]
    }
   ],
   "source": [
    "## Decision Tree \n",
    "from sklearn.ensemble import GradientBoostingClassifier\n",
    "clf = GradientBoostingClassifier()\n",
    "clf.fit(features_train, labels_train)\n",
    "prediction = clf.predict(features_test)\n",
    "accuracy = accuracy_score(labels_test , prediction)\n",
    "print(\"Accuracy: %.2f%%\" % (accuracy * 100.0))"
   ]
  },
  {
   "cell_type": "markdown",
   "metadata": {},
   "source": [
    "## Decission tree Classifier"
   ]
  },
  {
   "cell_type": "code",
   "execution_count": 65,
   "metadata": {},
   "outputs": [
    {
     "name": "stdout",
     "output_type": "stream",
     "text": [
      "Accuracy: 59.20%\n"
     ]
    }
   ],
   "source": [
    "## Decision Tree \n",
    "from sklearn import tree\n",
    "clf = tree.DecisionTreeClassifier()\n",
    "clf.fit(features_train, labels_train)\n",
    "prediction = clf.predict(features_test)\n",
    "accuracy = accuracy_score(labels_test , prediction)\n",
    "print(\"Accuracy: %.2f%%\" % (accuracy * 100.0))"
   ]
  },
  {
   "cell_type": "markdown",
   "metadata": {},
   "source": [
    "## Gaussian Naive Bayes Classifier"
   ]
  },
  {
   "cell_type": "code",
   "execution_count": 66,
   "metadata": {},
   "outputs": [
    {
     "name": "stdout",
     "output_type": "stream",
     "text": [
      "Accuracy: 37.14%\n"
     ]
    }
   ],
   "source": [
    "## Gaussian Naive Bayes\n",
    "from sklearn.naive_bayes import GaussianNB\n",
    "clf = GaussianNB()\n",
    "clf.fit(features_train, labels_train)\n",
    "prediction = clf.predict(features_test)\n",
    "## Computing accuracy\n",
    "accuracy = accuracy_score(labels_test , prediction)\n",
    "print(\"Accuracy: %.2f%%\" % (accuracy * 100.0))"
   ]
  },
  {
   "cell_type": "markdown",
   "metadata": {},
   "source": [
    "## SVM Classifier"
   ]
  },
  {
   "cell_type": "code",
   "execution_count": 67,
   "metadata": {},
   "outputs": [
    {
     "name": "stdout",
     "output_type": "stream",
     "text": [
      "Accuracy: 53.33%\n"
     ]
    }
   ],
   "source": [
    "## SVM \n",
    "from sklearn import svm\n",
    "clf = svm.SVC(kernel=\"rbf\") \n",
    "clf.fit(features_train, labels_train)\n",
    "prediction = clf.predict(features_test)\n",
    "## Computing accuracy\n",
    "accuracy = accuracy_score(labels_test , prediction)\n",
    "print(\"Accuracy: %.2f%%\" % (accuracy * 100.0))"
   ]
  },
  {
   "cell_type": "markdown",
   "metadata": {},
   "source": [
    "# RandomForest classifier"
   ]
  },
  {
   "cell_type": "code",
   "execution_count": 68,
   "metadata": {},
   "outputs": [
    {
     "name": "stdout",
     "output_type": "stream",
     "text": [
      "Accuracy: 64.91%\n"
     ]
    }
   ],
   "source": [
    "from sklearn.ensemble import RandomForestClassifier\n",
    "clf = RandomForestClassifier()\n",
    "clf.fit(features_train, labels_train)\n",
    "prediction = clf.predict(features_test)\n",
    "## Computing accuracy\n",
    "accuracy = accuracy_score(labels_test , prediction)\n",
    "print(\"Accuracy: %.2f%%\" % (accuracy * 100.0))"
   ]
  },
  {
   "cell_type": "markdown",
   "metadata": {},
   "source": [
    "# Logistic Regression"
   ]
  },
  {
   "cell_type": "code",
   "execution_count": 70,
   "metadata": {},
   "outputs": [
    {
     "name": "stdout",
     "output_type": "stream",
     "text": [
      "Accuracy: 58.18%\n"
     ]
    }
   ],
   "source": [
    "from sklearn.linear_model import LogisticRegression\n",
    "clf = LogisticRegression()\n",
    "clf.fit(features_train, labels_train)\n",
    "prediction = clf.predict(features_test)\n",
    "## Computing accuracy\n",
    "accuracy = accuracy_score(labels_test , prediction)\n",
    "print(\"Accuracy: %.2f%%\" % (accuracy * 100.0))"
   ]
  },
  {
   "cell_type": "markdown",
   "metadata": {},
   "source": [
    "# K Nearest Neighbours"
   ]
  },
  {
   "cell_type": "code",
   "execution_count": 72,
   "metadata": {},
   "outputs": [
    {
     "name": "stdout",
     "output_type": "stream",
     "text": [
      "Accuracy: 47.83%\n"
     ]
    }
   ],
   "source": [
    "from sklearn.neighbors import KNeighborsClassifier\n",
    "clf = KNeighborsClassifier()\n",
    "clf.fit(features_train, labels_train)\n",
    "prediction = clf.predict(features_test)\n",
    "## Computing accuracy\n",
    "accuracy = accuracy_score(labels_test , prediction)\n",
    "print(\"Accuracy: %.2f%%\" % (accuracy * 100.0))"
   ]
  },
  {
   "cell_type": "markdown",
   "metadata": {},
   "source": [
    "# Bagging Classifier"
   ]
  },
  {
   "cell_type": "code",
   "execution_count": 71,
   "metadata": {},
   "outputs": [
    {
     "name": "stdout",
     "output_type": "stream",
     "text": [
      "Accuracy: 64.66%\n"
     ]
    }
   ],
   "source": [
    "from sklearn.ensemble import BaggingClassifier\n",
    "clf = BaggingClassifier()\n",
    "clf.fit(features_train, labels_train)\n",
    "prediction = clf.predict(features_test)\n",
    "## Computing accuracy\n",
    "accuracy = accuracy_score(labels_test , prediction)\n",
    "print(\"Accuracy: %.2f%%\" % (accuracy * 100.0))"
   ]
  },
  {
   "cell_type": "markdown",
   "metadata": {},
   "source": [
    "# Extra Trees Classifier"
   ]
  },
  {
   "cell_type": "code",
   "execution_count": 73,
   "metadata": {},
   "outputs": [
    {
     "name": "stdout",
     "output_type": "stream",
     "text": [
      "Accuracy: 62.86%\n"
     ]
    }
   ],
   "source": [
    "from sklearn.ensemble import ExtraTreesClassifier\n",
    "clf = ExtraTreesClassifier()\n",
    "clf.fit(features_train, labels_train)\n",
    "prediction = clf.predict(features_test)\n",
    "## Computing accuracy\n",
    "accuracy = accuracy_score(labels_test , prediction)\n",
    "print(\"Accuracy: %.2f%%\" % (accuracy * 100.0))"
   ]
  },
  {
   "cell_type": "markdown",
   "metadata": {},
   "source": [
    "# Approach 2"
   ]
  },
  {
   "cell_type": "markdown",
   "metadata": {},
   "source": [
    "## All At once"
   ]
  },
  {
   "cell_type": "code",
   "execution_count": null,
   "metadata": {},
   "outputs": [
    {
     "name": "stdout",
     "output_type": "stream",
     "text": [
      "---------------------------------------------------------------\n",
      "AdaBoostClassifier(algorithm='SAMME.R', base_estimator=None,\n",
      "          learning_rate=1.0, n_estimators=50, random_state=None)\n",
      "---------------------------------------------------------------\n",
      "Accuracy: 58.34%\n",
      "\n",
      "\n",
      "\n",
      "\n",
      "\n",
      "\n",
      "---------------------------------------------------------------\n",
      "BaggingClassifier(base_estimator=None, bootstrap=True,\n",
      "         bootstrap_features=False, max_features=1.0, max_samples=1.0,\n",
      "         n_estimators=10, n_jobs=1, oob_score=False, random_state=None,\n",
      "         verbose=0, warm_start=False)\n",
      "---------------------------------------------------------------\n",
      "Accuracy: 65.81%\n",
      "\n",
      "\n",
      "\n",
      "\n",
      "\n",
      "\n",
      "---------------------------------------------------------------\n",
      "ExtraTreesClassifier(bootstrap=False, class_weight=None, criterion='gini',\n",
      "           max_depth=None, max_features='auto', max_leaf_nodes=None,\n",
      "           min_impurity_decrease=0.0, min_impurity_split=None,\n",
      "           min_samples_leaf=1, min_samples_split=2,\n",
      "           min_weight_fraction_leaf=0.0, n_estimators=10, n_jobs=1,\n",
      "           oob_score=False, random_state=None, verbose=0, warm_start=False)\n",
      "---------------------------------------------------------------\n",
      "Accuracy: 62.36%\n",
      "\n",
      "\n",
      "\n",
      "\n",
      "\n",
      "\n",
      "---------------------------------------------------------------\n",
      "GradientBoostingClassifier(criterion='friedman_mse', init=None,\n",
      "              learning_rate=0.1, loss='deviance', max_depth=3,\n",
      "              max_features=None, max_leaf_nodes=None,\n",
      "              min_impurity_decrease=0.0, min_impurity_split=None,\n",
      "              min_samples_leaf=1, min_samples_split=2,\n",
      "              min_weight_fraction_leaf=0.0, n_estimators=100,\n",
      "              presort='auto', random_state=None, subsample=1.0, verbose=0,\n",
      "              warm_start=False)\n",
      "---------------------------------------------------------------\n",
      "Accuracy: 66.74%\n",
      "\n",
      "\n",
      "\n",
      "\n",
      "\n",
      "\n",
      "---------------------------------------------------------------\n",
      "IsolationForest(bootstrap=False, contamination=0.1, max_features=1.0,\n",
      "        max_samples='auto', n_estimators=100, n_jobs=1, random_state=None,\n",
      "        verbose=0)\n",
      "---------------------------------------------------------------\n"
     ]
    },
    {
     "name": "stderr",
     "output_type": "stream",
     "text": [
      "/home/shashwat/anaconda3/lib/python3.6/site-packages/scipy/stats/stats.py:1713: FutureWarning: Using a non-tuple sequence for multidimensional indexing is deprecated; use `arr[tuple(seq)]` instead of `arr[seq]`. In the future this will be interpreted as an array index, `arr[np.array(seq)]`, which will result either in an error or a different result.\n",
      "  return np.add.reduce(sorted[indexer] * weights, axis=axis) / sumval\n"
     ]
    },
    {
     "name": "stdout",
     "output_type": "stream",
     "text": [
      "Accuracy: 11.38%\n",
      "\n",
      "\n",
      "\n",
      "\n",
      "\n",
      "\n",
      "---------------------------------------------------------------\n",
      "RandomForestClassifier(bootstrap=True, class_weight=None, criterion='gini',\n",
      "            max_depth=None, max_features='auto', max_leaf_nodes=None,\n",
      "            min_impurity_decrease=0.0, min_impurity_split=None,\n",
      "            min_samples_leaf=1, min_samples_split=2,\n",
      "            min_weight_fraction_leaf=0.0, n_estimators=10, n_jobs=1,\n",
      "            oob_score=False, random_state=None, verbose=0,\n",
      "            warm_start=False)\n",
      "---------------------------------------------------------------\n",
      "Accuracy: 64.75%\n",
      "\n",
      "\n",
      "\n",
      "\n",
      "\n",
      "\n",
      "---------------------------------------------------------------\n",
      "KNeighborsClassifier(algorithm='auto', leaf_size=30, metric='minkowski',\n",
      "           metric_params=None, n_jobs=1, n_neighbors=5, p=2,\n",
      "           weights='uniform')\n",
      "---------------------------------------------------------------\n",
      "Accuracy: 47.83%\n",
      "\n",
      "\n",
      "\n",
      "\n",
      "\n",
      "\n",
      "---------------------------------------------------------------\n",
      "RadiusNeighborsClassifier(algorithm='auto', leaf_size=30, metric='minkowski',\n",
      "             metric_params=None, outlier_label=None, p=2, radius=1.0,\n",
      "             weights='uniform')\n",
      "---------------------------------------------------------------\n",
      "\n",
      "\n",
      "error in\n",
      "RadiusNeighborsClassifier(algorithm='auto', leaf_size=30, metric='minkowski',\n",
      "             metric_params=None, outlier_label=None, p=2, radius=1.0,\n",
      "             weights='uniform')\n",
      "---------------------------------------------------------------\n",
      "NearestCentroid(metric='euclidean', shrink_threshold=None)\n",
      "---------------------------------------------------------------\n",
      "Accuracy: 48.88%\n",
      "\n",
      "\n",
      "\n",
      "\n",
      "\n",
      "\n",
      "---------------------------------------------------------------\n",
      "LinearSVC(C=1.0, class_weight=None, dual=True, fit_intercept=True,\n",
      "     intercept_scaling=1, loss='squared_hinge', max_iter=1000,\n",
      "     multi_class='ovr', penalty='l2', random_state=None, tol=0.0001,\n",
      "     verbose=0)\n",
      "---------------------------------------------------------------\n",
      "Accuracy: 19.76%\n",
      "\n",
      "\n",
      "\n",
      "\n",
      "\n",
      "\n",
      "---------------------------------------------------------------\n",
      "NuSVC(cache_size=200, class_weight=None, coef0=0.0,\n",
      "   decision_function_shape='ovr', degree=3, gamma='auto', kernel='rbf',\n",
      "   max_iter=-1, nu=0.5, probability=False, random_state=None,\n",
      "   shrinking=True, tol=0.001, verbose=False)\n",
      "---------------------------------------------------------------\n",
      "\n",
      "\n",
      "error in\n",
      "NuSVC(cache_size=200, class_weight=None, coef0=0.0,\n",
      "   decision_function_shape='ovr', degree=3, gamma='auto', kernel='rbf',\n",
      "   max_iter=-1, nu=0.5, probability=False, random_state=None,\n",
      "   shrinking=True, tol=0.001, verbose=False)\n",
      "---------------------------------------------------------------\n",
      "SVC(C=1.0, cache_size=200, class_weight=None, coef0=0.0,\n",
      "  decision_function_shape='ovr', degree=3, gamma='auto', kernel='rbf',\n",
      "  max_iter=-1, probability=False, random_state=None, shrinking=True,\n",
      "  tol=0.001, verbose=False)\n",
      "---------------------------------------------------------------\n",
      "Accuracy: 53.33%\n",
      "\n",
      "\n",
      "\n",
      "\n",
      "\n",
      "\n",
      "---------------------------------------------------------------\n",
      "DecisionTreeClassifier(class_weight=None, criterion='gini', max_depth=None,\n",
      "            max_features=None, max_leaf_nodes=None,\n",
      "            min_impurity_decrease=0.0, min_impurity_split=None,\n",
      "            min_samples_leaf=1, min_samples_split=2,\n",
      "            min_weight_fraction_leaf=0.0, presort=False, random_state=None,\n",
      "            splitter='best')\n",
      "---------------------------------------------------------------\n",
      "Accuracy: 59.25%\n",
      "\n",
      "\n",
      "\n",
      "\n",
      "\n",
      "\n",
      "---------------------------------------------------------------\n",
      "ExtraTreeClassifier(class_weight=None, criterion='gini', max_depth=None,\n",
      "          max_features='auto', max_leaf_nodes=None,\n",
      "          min_impurity_decrease=0.0, min_impurity_split=None,\n",
      "          min_samples_leaf=1, min_samples_split=2,\n",
      "          min_weight_fraction_leaf=0.0, random_state=None,\n",
      "          splitter='random')\n",
      "---------------------------------------------------------------\n",
      "Accuracy: 55.44%\n",
      "\n",
      "\n",
      "\n",
      "\n",
      "\n",
      "\n",
      "---------------------------------------------------------------\n",
      "DummyClassifier(constant=None, random_state=None, strategy='stratified')\n",
      "---------------------------------------------------------------\n",
      "Accuracy: 34.26%\n",
      "\n",
      "\n",
      "\n",
      "\n",
      "\n",
      "\n",
      "---------------------------------------------------------------\n",
      "GaussianProcessClassifier(copy_X_train=True, kernel=None,\n",
      "             max_iter_predict=100, multi_class='one_vs_rest', n_jobs=1,\n",
      "             n_restarts_optimizer=0, optimizer='fmin_l_bfgs_b',\n",
      "             random_state=None, warm_start=False)\n",
      "---------------------------------------------------------------\n"
     ]
    }
   ],
   "source": [
    "from sklearn.ensemble import *\n",
    "from sklearn.neighbors import *\n",
    "from sklearn.svm import *\n",
    "from sklearn.dummy import *\n",
    "from sklearn.tree import *\n",
    "from sklearn.gaussian_process import *\n",
    "\n",
    "ensembles = [\n",
    "    AdaBoostClassifier(),\n",
    "    BaggingClassifier(),\n",
    "    ExtraTreesClassifier(),\n",
    "    GradientBoostingClassifier(),\n",
    "    IsolationForest(),\n",
    "    RandomForestClassifier()\n",
    "]\n",
    "\n",
    "neighbors = [\n",
    "    KNeighborsClassifier(),\n",
    "    RadiusNeighborsClassifier(),\n",
    "    NearestCentroid()\n",
    "]\n",
    "\n",
    "svms = [\n",
    "    LinearSVC(),\n",
    "    NuSVC(),\n",
    "    SVC(),\n",
    "]\n",
    "\n",
    "trees = [\n",
    "    DecisionTreeClassifier(),\n",
    "    ExtraTreeClassifier(),\n",
    "]\n",
    "\n",
    "extraa = [\n",
    "    DummyClassifier(),\n",
    "    GaussianProcessClassifier()\n",
    "]\n",
    "\n",
    "models = []\n",
    "models.extend(ensembles)\n",
    "models.extend(neighbors)\n",
    "models.extend(svms)\n",
    "models.extend(trees)\n",
    "models.extend(extraa)\n",
    "for model in models:\n",
    "    try:\n",
    "        print(\"---------------------------------------------------------------\")\n",
    "        print(model)\n",
    "        print(\"---------------------------------------------------------------\")\n",
    "        model.fit(features_train, labels_train)\n",
    "        prediction = model.predict(features_test)\n",
    "        ## Computing accuracy\n",
    "        accuracy = accuracy_score(labels_test , prediction)\n",
    "        print(\"Accuracy: %.2f%%\\n\\n\\n\\n\\n\\n\" % (accuracy * 100.0))\n",
    "    except:\n",
    "        print(\"\\n\\nerror in\")\n",
    "        print(model)"
   ]
  },
  {
   "cell_type": "code",
   "execution_count": null,
   "metadata": {},
   "outputs": [],
   "source": []
  }
 ],
 "metadata": {
  "kernelspec": {
   "display_name": "Python 3",
   "language": "python",
   "name": "python3"
  },
  "language_info": {
   "codemirror_mode": {
    "name": "ipython",
    "version": 3
   },
   "file_extension": ".py",
   "mimetype": "text/x-python",
   "name": "python",
   "nbconvert_exporter": "python",
   "pygments_lexer": "ipython3",
   "version": "3.6.5"
  }
 },
 "nbformat": 4,
 "nbformat_minor": 1
}
