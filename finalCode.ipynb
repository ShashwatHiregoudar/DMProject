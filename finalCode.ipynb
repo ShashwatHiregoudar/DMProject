{
 "cells": [
  {
   "cell_type": "markdown",
   "metadata": {},
   "source": [
    "## Data Mining and Analysis Course Project Team Details:\n",
    " \n",
    " ### Team Id: 6C2\n",
    " \n",
    " ### Team Details:\n",
    " \n",
    " Chandrashekhar Patil (244);\n",
    " Saikumar Mullalli (246);\n",
    " Saurav Suman (253);\n",
    " Shashwath Hiregoudar (256);"
   ]
  },
  {
   "cell_type": "markdown",
   "metadata": {},
   "source": [
    "## Title:Militant operations of Indian Army\n"
   ]
  },
  {
   "cell_type": "code",
   "execution_count": 1,
   "metadata": {},
   "outputs": [
    {
     "name": "stdout",
     "output_type": "stream",
     "text": [
      "Populating the interactive namespace from numpy and matplotlib\n"
     ]
    }
   ],
   "source": [
    "##Exploring Traveler data\n",
    "import pandas as pd\n",
    "import matplotlib.pyplot as plt\n",
    "%pylab inline \n",
    "train_file=\"C:\\\\Users\\\\hp\\\\Desktop\\\\Desktop\\\\DMALab-master\\\\Project\\deaths-in-india-satp-dfe_Final.csv\"\n",
    "\n",
    "data = pd.read_csv(train_file, header = 0,index_col=None)"
   ]
  },
  {
   "cell_type": "markdown",
   "metadata": {},
   "source": [
    "## Splitting Data into train data and test data"
   ]
  },
  {
   "cell_type": "code",
   "execution_count": 2,
   "metadata": {},
   "outputs": [
    {
     "name": "stderr",
     "output_type": "stream",
     "text": [
      "C:\\Users\\hp\\Anaconda3\\lib\\site-packages\\ipykernel_launcher.py:4: SettingWithCopyWarning: \n",
      "A value is trying to be set on a copy of a slice from a DataFrame\n",
      "\n",
      "See the caveats in the documentation: http://pandas.pydata.org/pandas-docs/stable/indexing.html#indexing-view-versus-copy\n",
      "  after removing the cwd from sys.path.\n"
     ]
    }
   ],
   "source": [
    "df_train = data.head(22000)\n",
    "\n",
    "df_test = data.tail(5000)\n",
    "df_test.drop('verb',axis = 1, inplace = True)"
   ]
  },
  {
   "cell_type": "markdown",
   "metadata": {},
   "source": [
    "## Conacatenate train and test data for Preprocessing"
   ]
  },
  {
   "cell_type": "code",
   "execution_count": 3,
   "metadata": {
    "collapsed": true
   },
   "outputs": [],
   "source": [
    "data = pd.concat((df_train, df_test), axis=0, ignore_index=True)"
   ]
  },
  {
   "cell_type": "markdown",
   "metadata": {},
   "source": [
    "## Preprocessing "
   ]
  },
  {
   "cell_type": "code",
   "execution_count": 4,
   "metadata": {
    "scrolled": false
   },
   "outputs": [
    {
     "name": "stdout",
     "output_type": "stream",
     "text": [
      "Dropping _golden\n",
      "Dropping _unit_state\n",
      "Dropping _trusted_judgments\n",
      "Dropping _last_judgment_at\n",
      "Dropping accuracy\n",
      "Dropping canddist\n",
      "Dropping civilians_gold\n",
      "Dropping date\n",
      "Dropping militants_terrorists_insurgents_gold\n",
      "Dropping object\n",
      "Dropping objectcleanpp\n",
      "Dropping objectcount\n",
      "Dropping pid\n",
      "Dropping rid\n",
      "Dropping security_forces_gold\n",
      "Dropping sentence\n",
      "Dropping sid\n",
      "Dropping srid\n",
      "Dropping state\n",
      "Dropping subject\n",
      "Dropping svmlabel2\n",
      "Dropping svmlabel2prob\n",
      "Dropping svmobjecttypelab\n",
      "Dropping svmobjecttypeprob\n",
      "Dropping total_number_of_people_gold\n"
     ]
    }
   ],
   "source": [
    "#dropping _goden as this attribute contains same value for all of its records\n",
    "data.drop('_golden', axis = 1, inplace = True)\n",
    "print(\"Dropping _golden\")\n",
    "\n",
    "#dropping _unit_state as this attribute contains same value for all of its records\n",
    "data.drop('_unit_state',axis = 1, inplace = True)\n",
    "print(\"Dropping _unit_state\")\n",
    "\n",
    "#dropping _trusted_judgments as this attribute contains same value for all of its records\n",
    "data.drop('_trusted_judgments',axis = 1, inplace = True)\n",
    "print(\"Dropping _trusted_judgments\")\n",
    "\n",
    "#dropping _last_judgment_at as this does not help for our prediction\n",
    "data.drop('_last_judgment_at',axis = 1, inplace = True)\n",
    "print(\"Dropping _last_judgment_at\")\n",
    "\n",
    "#dropping _accuracy as this attribute contains same value for all of its records\n",
    "data.drop('accuracy',axis = 1, inplace = True)\n",
    "print(\"Dropping accuracy\")\n",
    "\n",
    "#dropping canddist as this attribute does not help for our prediction\n",
    "data.drop('canddist',axis = 1, inplace = True)\n",
    "print(\"Dropping canddist\")\n",
    "\n",
    "#dropping civilians_gold as this attribute contains same value for all of its records\n",
    "data.drop('civilians_gold',axis = 1, inplace = True)\n",
    "print(\"Dropping civilians_gold\")\n",
    "\n",
    "#dropping date as this attribute does not help for our prediction\n",
    "data.drop('date',axis = 1, inplace = True)\n",
    "print(\"Dropping date\")\n",
    "\n",
    "#dropping militants_terrorists_insurgents_gold as this attribute  does not contain any value for all of its records\n",
    "data.drop('militants_terrorists_insurgents_gold',axis = 1, inplace = True)\n",
    "print(\"Dropping militants_terrorists_insurgents_gold\")\n",
    "\n",
    "#droppin object as it is a redundant attribute\n",
    "data.drop('object',axis = 1, inplace = True)\n",
    "print(\"Dropping object\")\n",
    "\n",
    "#dropping objectcleanpp as this attribute does nothelp for our prediction\n",
    "data.drop('objectcleanpp',axis = 1, inplace = True)\n",
    "print(\"Dropping objectcleanpp\")\n",
    "\n",
    "#droppin object as it is a redundant attribute\n",
    "data.drop('objectcount',axis = 1, inplace = True)\n",
    "print(\"Dropping objectcount\")\n",
    "\n",
    "#droppin object as does not help for our prediction\n",
    "data.drop('pid',axis = 1, inplace = True)\n",
    "print(\"Dropping pid\")\n",
    "\n",
    "#droppin object as does not help for our prediction\n",
    "data.drop('rid',axis = 1, inplace = True)\n",
    "print(\"Dropping rid\")\n",
    "\n",
    "#dropping security_forces_gold as this attribute does not contain any value for all of its records\n",
    "data.drop('security_forces_gold',axis = 1, inplace = True)\n",
    "print(\"Dropping security_forces_gold\")\n",
    "\n",
    "\n",
    "#dropping objectcleanpp as this attribute does nothelp for our prediction\n",
    "data.drop('sentence',axis = 1, inplace = True)\n",
    "print(\"Dropping sentence\")\n",
    "\n",
    "#dropping sid as this attribute is not helpful possible prediction of future attacks\n",
    "data.drop('sid',axis = 1, inplace = True)\n",
    "print(\"Dropping sid\")\n",
    "\n",
    "#dropping srid as this attribute does not contain any value for all of its records\n",
    "data.drop('srid',axis = 1, inplace = True)\n",
    "print(\"Dropping srid\")\n",
    "\n",
    "#droppin state as it is a redundant attribute\n",
    "data.drop('state',axis = 1, inplace = True)\n",
    "print(\"Dropping state\")\n",
    "\n",
    "#droppin state as it is not helpful possible prediction of future attacks\n",
    "data.drop('subject',axis = 1, inplace = True)\n",
    "print(\"Dropping subject\")\n",
    "\n",
    "#dropping svmlabel2 as this attribute is not helpful possible prediction of future attacks\n",
    "data.drop('svmlabel2',axis = 1, inplace = True)\n",
    "print(\"Dropping svmlabel2\")\n",
    "\n",
    "#dropping svmlabel2prob as this attribute is not helpful possible prediction of future attacks\n",
    "data.drop('svmlabel2prob',axis = 1, inplace = True)\n",
    "print(\"Dropping svmlabel2prob\")\n",
    "\n",
    "#dropping svmobjecttypelab as this attribute contains same value for all of its records\n",
    "data.drop('svmobjecttypelab',axis = 1, inplace = True)\n",
    "print(\"Dropping svmobjecttypelab\")\n",
    "\n",
    "#dropping svmobjecttypeprob as this attribute is not helpful possible prediction of future attacks\n",
    "data.drop('svmobjecttypeprob',axis = 1, inplace = True)\n",
    "print(\"Dropping svmobjecttypeprob\")\n",
    "\n",
    "#dropping total_number_of_people_gold as this attribute does not contain any value for all of its records\n",
    "data.drop('total_number_of_people_gold',axis = 1, inplace = True)\n",
    "print(\"Dropping total_number_of_people_gold\")\n"
   ]
  },
  {
   "cell_type": "markdown",
   "metadata": {},
   "source": [
    "### Computing NULL values in all attributes"
   ]
  },
  {
   "cell_type": "code",
   "execution_count": 5,
   "metadata": {},
   "outputs": [
    {
     "data": {
      "text/plain": [
       "state_full    21.270370\n",
       "verb          18.518519\n",
       "dtype: float64"
      ]
     },
     "execution_count": 5,
     "metadata": {},
     "output_type": "execute_result"
    }
   ],
   "source": [
    "\n",
    "\n",
    "# Compute Null percentage of each feature.\n",
    "df_all_null = (data.isnull().sum() / data.shape[0]) * 100\n",
    "#df_all_null = (df_all.isnull().sum())\n",
    "df_all_null[df_all_null > 0]"
   ]
  },
  {
   "cell_type": "code",
   "execution_count": 6,
   "metadata": {},
   "outputs": [
    {
     "data": {
      "text/plain": [
       "<matplotlib.axes._subplots.AxesSubplot at 0x2469e1c2ba8>"
      ]
     },
     "execution_count": 6,
     "metadata": {},
     "output_type": "execute_result"
    },
    {
     "data": {
      "image/png": "[encoded data removed]",
      "text/plain": [
       "<matplotlib.figure.Figure at 0x246a268c4a8>"
      ]
     },
     "metadata": {},
     "output_type": "display_data"
    }
   ],
   "source": [
    "df_all_null.plot(kind=\"bar\",color=\"red\",rot=80)"
   ]
  },
  {
   "cell_type": "markdown",
   "metadata": {},
   "source": [
    "## Filling missing values"
   ]
  },
  {
   "cell_type": "code",
   "execution_count": 7,
   "metadata": {},
   "outputs": [
    {
     "name": "stdout",
     "output_type": "stream",
     "text": [
      "Filling state_full column...\n",
      "Filling state_full column...completed\n"
     ]
    }
   ],
   "source": [
    "# Fill state_full column\n",
    "print(\"Filling state_full column...\")\n",
    "data['state_full'].fillna('NA', inplace=True)\n",
    "print(\"Filling state_full column...completed\")"
   ]
  },
  {
   "cell_type": "markdown",
   "metadata": {},
   "source": [
    "## Data Transformation"
   ]
  },
  {
   "cell_type": "code",
   "execution_count": 9,
   "metadata": {
    "collapsed": true
   },
   "outputs": [],
   "source": [
    "date=data['attack_date']\n",
    "import re\n",
    "#print (date.dtype)\n",
    "import datetime\n",
    "\n",
    "for var in date:\n",
    "    if(re.search(\"/\",str(var))):\n",
    "        var1=re.sub('/','-',str(var))\n",
    "        var2=datetime.datetime.strptime(var1, '%m-%d-%y').date()\n",
    "        data['attack_date'].replace(var,var2,inplace=True)\n",
    "    else:\n",
    "        if(re.match(\"[0-9]{4}-[0-9]{2}-[0-9]{2}\",str(var))):\n",
    "            var=var\n",
    "        else:\n",
    "            var2=datetime.datetime.strptime(str(var), '%m-%d-%y').strftime(\"%Y-%m-%d\")\n",
    "            data['attack_date'].replace(var,var2,inplace=True)\n",
    "        \n",
    "        \n",
    "     \n"
   ]
  },
  {
   "cell_type": "code",
   "execution_count": 10,
   "metadata": {
    "collapsed": true
   },
   "outputs": [],
   "source": [
    "#converting into Standard date format Y-M-D\n",
    "data['attack_date'] = pd.to_datetime(data['attack_date'], format='%Y-%m-%d')"
   ]
  },
  {
   "cell_type": "code",
   "execution_count": 11,
   "metadata": {},
   "outputs": [
    {
     "data": {
      "text/plain": [
       "0       2000-03-07\n",
       "1       2000-03-07\n",
       "2       2000-03-07\n",
       "3       2000-03-07\n",
       "4       2000-03-08\n",
       "5       2000-03-08\n",
       "6       2000-03-09\n",
       "7       2000-03-09\n",
       "8       2000-03-12\n",
       "9       2000-03-12\n",
       "10      2000-03-13\n",
       "11      2000-03-14\n",
       "12      2000-03-15\n",
       "13      2000-03-15\n",
       "14      2000-03-15\n",
       "15      2000-03-15\n",
       "16      2000-03-15\n",
       "17      2000-03-16\n",
       "18      2000-03-17\n",
       "19      2000-03-17\n",
       "20      2000-03-17\n",
       "21      2000-03-18\n",
       "22      2000-03-18\n",
       "23      2000-03-18\n",
       "24      2000-03-18\n",
       "25      2000-03-18\n",
       "26      2000-03-18\n",
       "27      2000-03-21\n",
       "28      2000-03-21\n",
       "29      2000-03-22\n",
       "           ...    \n",
       "26970   2009-09-19\n",
       "26971   2006-05-03\n",
       "26972   2002-02-19\n",
       "26973   2006-07-15\n",
       "26974   2002-01-13\n",
       "26975   2010-05-13\n",
       "26976   2010-11-08\n",
       "26977   2006-09-21\n",
       "26978   2008-06-14\n",
       "26979   2000-03-18\n",
       "26980   2010-01-11\n",
       "26981   2006-09-10\n",
       "26982   2011-07-24\n",
       "26983   2013-04-08\n",
       "26984   2005-05-25\n",
       "26985   2000-07-14\n",
       "26986   2001-05-20\n",
       "26987   2001-01-16\n",
       "26988   2010-08-13\n",
       "26989   2000-11-29\n",
       "26990   2006-04-11\n",
       "26991   2008-03-29\n",
       "26992   2011-07-18\n",
       "26993   2013-06-23\n",
       "26994   2003-12-14\n",
       "26995   2013-03-05\n",
       "26996   2002-09-19\n",
       "26997   2012-01-22\n",
       "26998   2010-10-01\n",
       "26999   2010-03-27\n",
       "Name: attack_date, Length: 27000, dtype: datetime64[ns]"
      ]
     },
     "execution_count": 11,
     "metadata": {},
     "output_type": "execute_result"
    }
   ],
   "source": [
    "data['attack_date']"
   ]
  },
  {
   "cell_type": "markdown",
   "metadata": {},
   "source": [
    "## Data addition"
   ]
  },
  {
   "cell_type": "code",
   "execution_count": 12,
   "metadata": {
    "collapsed": true
   },
   "outputs": [],
   "source": [
    "#adding new columns\n",
    "data['attack_month'] = data['attack_date'].dt.month\n",
    "data['attack_day'] = data['attack_date'].dt.day"
   ]
  },
  {
   "cell_type": "code",
   "execution_count": 13,
   "metadata": {
    "collapsed": true
   },
   "outputs": [],
   "source": [
    "data.drop('attack_date',axis = 1, inplace = True)"
   ]
  },
  {
   "cell_type": "markdown",
   "metadata": {},
   "source": [
    "## Data transformation"
   ]
  },
  {
   "cell_type": "code",
   "execution_count": 14,
   "metadata": {
    "collapsed": true
   },
   "outputs": [],
   "source": [
    "#replacing similar data of the attribute\n",
    "replaceVerb=data['verb']\n",
    "import re\n",
    "\n",
    "for var in replaceVerb:\n",
    "    if(re.search(\"killing\",str(var)) or re.search(\"kill\",str(var))):\n",
    "        var2='killed'\n",
    "        data['verb'].replace(var,var2,inplace=True)\n",
    "    elif(re.search(\"arresting\",str(var)) or re.search(\"arrest\",str(var))):\n",
    "        var2='arrested'\n",
    "        data['verb'].replace(var,var2,inplace=True)\n",
    "    elif(re.search(\"surrender\",str(var)) or re.search(\"surrendering\",str(var))):\n",
    "        var2='surrendered'\n",
    "        data['verb'].replace(var,var2,inplace=True)\n",
    "    elif(re.search(\"injuring\",str(var)) or re.search(\"injure\",str(var))):\n",
    "        var2='injured'\n",
    "        data['verb'].replace(var,var2,inplace=True)"
   ]
  },
  {
   "cell_type": "markdown",
   "metadata": {},
   "source": [
    "## One Hot Encoding "
   ]
  },
  {
   "cell_type": "code",
   "execution_count": 15,
   "metadata": {},
   "outputs": [
    {
     "name": "stdout",
     "output_type": "stream",
     "text": [
      "One Hot Encoding categorical data...\n",
      "One Hot Encoding categorical data...completed\n"
     ]
    }
   ],
   "source": [
    "def convert_to_binary(df, column_to_convert):\n",
    "    categories = list(df[column_to_convert].drop_duplicates())\n",
    "\n",
    "    for category in categories:\n",
    "        cat_name = str(category).replace(\" \", \"_\").replace(\"(\", \"\").replace(\")\", \"\").replace(\"/\", \"_\").replace(\"-\", \"\").lower()\n",
    "        col_name = column_to_convert[:4] + '_' + cat_name[:10]\n",
    "        df[col_name] = 0\n",
    "        df.loc[(df[column_to_convert] == category), col_name] = 1\n",
    "\n",
    "    return df\n",
    "\n",
    "# One Hot Encoding\n",
    "print(\"One Hot Encoding categorical data...\")\n",
    "columns_to_convert = ['state_full','svmlabel1','districtmatch']\n",
    "\n",
    "for column in columns_to_convert:\n",
    "    data = convert_to_binary(data,column)\n",
    "    data.drop(column, axis=1, inplace=True)\n",
    "print(\"One Hot Encoding categorical data...completed\")"
   ]
  },
  {
   "cell_type": "code",
   "execution_count": 16,
   "metadata": {
    "collapsed": true
   },
   "outputs": [],
   "source": [
    "#to find total number of deaths based on profession \n",
    "security=data['svml_security'].sum()\n",
    "\n",
    "terrorist=data['svml_terrorist'].sum()\n",
    "\n",
    "civilian=data['svml_civilian'].sum()\n",
    "\n",
    "public=data['svml_public'].sum()\n",
    "\n",
    "private=data['svml_private'].sum()\n"
   ]
  },
  {
   "cell_type": "code",
   "execution_count": 17,
   "metadata": {},
   "outputs": [
    {
     "data": {
      "image/png": "[encoded data removed]",
      "text/plain": [
       "<matplotlib.figure.Figure at 0x246a1b1eb70>"
      ]
     },
     "metadata": {},
     "output_type": "display_data"
    }
   ],
   "source": [
    "# Pie chart\n",
    "labels = 'security','public', 'terrorist', 'civilian' ,'private'\n",
    "sizes = [security,public,terrorist,civilian,private]\n",
    "explode = (0, 0, 0.2, 0.1, 0)  \n",
    "\n",
    "fig1, ax1 = plt.subplots()\n",
    "ax1.pie(sizes, explode =explode ,labels=labels, autopct='%1.1f%%',\n",
    "        shadow=True, startangle=90)\n",
    "ax1.axis('equal')\n",
    "\n",
    "plt.show()"
   ]
  },
  {
   "cell_type": "code",
   "execution_count": 18,
   "metadata": {
    "collapsed": true
   },
   "outputs": [],
   "source": [
    "#from above pie cart we can say that major part of killed were terrorists"
   ]
  },
  {
   "cell_type": "markdown",
   "metadata": {},
   "source": [
    "## Save Preprocessed Data to csv file"
   ]
  },
  {
   "cell_type": "code",
   "execution_count": 19,
   "metadata": {
    "collapsed": true
   },
   "outputs": [],
   "source": [
    "file4 = 'C:\\\\Users\\\\hp\\\\Desktop\\\\Desktop\\\\DMALab-master\\\\Project\\\\preprocessed.csv'\n",
    "data.to_csv(file4)"
   ]
  },
  {
   "cell_type": "code",
   "execution_count": 15,
   "metadata": {
    "collapsed": true
   },
   "outputs": [],
   "source": [
    "#create data frame for classification\n",
    "\n",
    "df_all =  pd.DataFrame(data=data)"
   ]
  },
  {
   "cell_type": "markdown",
   "metadata": {},
   "source": [
    "## Split preprocessed data into train data and test data"
   ]
  },
  {
   "cell_type": "code",
   "execution_count": 17,
   "metadata": {
    "collapsed": true
   },
   "outputs": [],
   "source": [
    "df_train = df_all.head(22000)\n",
    "df_test = df_all.tail(5000)\n",
    "df_all1 = df_all"
   ]
  },
  {
   "cell_type": "code",
   "execution_count": 18,
   "metadata": {},
   "outputs": [
    {
     "name": "stderr",
     "output_type": "stream",
     "text": [
      "C:\\Users\\hp\\Anaconda3\\lib\\site-packages\\ipykernel_launcher.py:1: SettingWithCopyWarning: \n",
      "A value is trying to be set on a copy of a slice from a DataFrame\n",
      "\n",
      "See the caveats in the documentation: http://pandas.pydata.org/pandas-docs/stable/indexing.html#indexing-view-versus-copy\n",
      "  \"\"\"Entry point for launching an IPython kernel.\n"
     ]
    }
   ],
   "source": [
    "#dropping column which we want to predivt from test data\n",
    "df_test.drop('verb',axis = 1, inplace = True)"
   ]
  },
  {
   "cell_type": "code",
   "execution_count": 19,
   "metadata": {
    "collapsed": true
   },
   "outputs": [],
   "source": [
    "df_all.drop('verb',axis = 1, inplace = True)"
   ]
  },
  {
   "cell_type": "code",
   "execution_count": 21,
   "metadata": {
    "collapsed": true,
    "scrolled": false
   },
   "outputs": [],
   "source": [
    "#temporary variables\n",
    "df_train1 = df_train\n",
    "df_test1 = df_test\n",
    "df_all1 = df_all"
   ]
  },
  {
   "cell_type": "code",
   "execution_count": 22,
   "metadata": {},
   "outputs": [
    {
     "data": {
      "text/plain": [
       "Index(['_unit_id', 'eventid', 'svmlabel1prob', 'verb', 'attack_month',\n",
       "       'attack_day', 'stat_jammu_and_', 'stat_na', 'stat_assam',\n",
       "       'stat_manipur',\n",
       "       ...\n",
       "       'dist_parganas_n', 'dist_sheopur', 'dist_dantewara', 'dist_mandsaur',\n",
       "       'dist_moradabad', 'dist_west_medin', 'dist_sikar', 'dist_almora',\n",
       "       'dist_datiya', 'dist_gautambudh'],\n",
       "      dtype='object', length=580)"
      ]
     },
     "execution_count": 22,
     "metadata": {},
     "output_type": "execute_result"
    }
   ],
   "source": [
    "df_train1.columns"
   ]
  },
  {
   "cell_type": "code",
   "execution_count": 23,
   "metadata": {},
   "outputs": [
    {
     "data": {
      "text/plain": [
       "0         killed\n",
       "1         killed\n",
       "2       arrested\n",
       "3    surrendered\n",
       "4         killed\n",
       "Name: verb, dtype: object"
      ]
     },
     "execution_count": 23,
     "metadata": {},
     "output_type": "execute_result"
    }
   ],
   "source": [
    "df_train['verb'].head()"
   ]
  },
  {
   "cell_type": "code",
   "execution_count": 24,
   "metadata": {},
   "outputs": [
    {
     "data": {
      "text/plain": [
       "Index(['_unit_id', 'eventid', 'svmlabel1prob', 'attack_month', 'attack_day',\n",
       "       'stat_jammu_and_', 'stat_na', 'stat_assam', 'stat_manipur',\n",
       "       'stat_bihar',\n",
       "       ...\n",
       "       'dist_parganas_n', 'dist_sheopur', 'dist_dantewara', 'dist_mandsaur',\n",
       "       'dist_moradabad', 'dist_west_medin', 'dist_sikar', 'dist_almora',\n",
       "       'dist_datiya', 'dist_gautambudh'],\n",
       "      dtype='object', length=579)"
      ]
     },
     "execution_count": 24,
     "metadata": {},
     "output_type": "execute_result"
    }
   ],
   "source": [
    "df_test1.columns"
   ]
  },
  {
   "cell_type": "code",
   "execution_count": 25,
   "metadata": {},
   "outputs": [
    {
     "data": {
      "text/plain": [
       "Index(['_unit_id', 'eventid', 'svmlabel1prob', 'attack_month', 'attack_day',\n",
       "       'stat_jammu_and_', 'stat_na', 'stat_assam', 'stat_manipur',\n",
       "       'stat_bihar',\n",
       "       ...\n",
       "       'dist_parganas_n', 'dist_sheopur', 'dist_dantewara', 'dist_mandsaur',\n",
       "       'dist_moradabad', 'dist_west_medin', 'dist_sikar', 'dist_almora',\n",
       "       'dist_datiya', 'dist_gautambudh'],\n",
       "      dtype='object', length=579)"
      ]
     },
     "execution_count": 25,
     "metadata": {},
     "output_type": "execute_result"
    }
   ],
   "source": [
    "df_all.columns"
   ]
  },
  {
   "cell_type": "code",
   "execution_count": 26,
   "metadata": {
    "collapsed": true
   },
   "outputs": [],
   "source": [
    "#seeting _unit_id as a index of dataframe\n",
    "df_train1.set_index('_unit_id', inplace=True)\n"
   ]
  },
  {
   "cell_type": "markdown",
   "metadata": {},
   "source": [
    "## Label Encoding for Categorical data"
   ]
  },
  {
   "cell_type": "code",
   "execution_count": 27,
   "metadata": {
    "collapsed": true
   },
   "outputs": [],
   "source": [
    "from sklearn.preprocessing import LabelEncoder\n",
    "\n",
    "id_train = df_train1.index.values\n",
    "labels = df_train1['verb']\n",
    "\n",
    "# Label encoding for the categorical data eg: ...NDF -> 7, US -> 10...\n",
    "le = LabelEncoder()\n",
    "y = le.fit_transform(labels)\n",
    "X = df_train1.drop('verb', axis=1, inplace=False)"
   ]
  },
  {
   "cell_type": "code",
   "execution_count": 28,
   "metadata": {},
   "outputs": [
    {
     "data": {
      "text/plain": [
       "(22000, 578)"
      ]
     },
     "execution_count": 28,
     "metadata": {},
     "output_type": "execute_result"
    }
   ],
   "source": [
    "X.shape"
   ]
  },
  {
   "cell_type": "code",
   "execution_count": 29,
   "metadata": {},
   "outputs": [
    {
     "data": {
      "text/html": [
       "<div>\n",
       "<style>\n",
       "    .dataframe thead tr:only-child th {\n",
       "        text-align: right;\n",
       "    }\n",
       "\n",
       "    .dataframe thead th {\n",
       "        text-align: left;\n",
       "    }\n",
       "\n",
       "    .dataframe tbody tr th {\n",
       "        vertical-align: top;\n",
       "    }\n",
       "</style>\n",
       "<table border=\"1\" class=\"dataframe\">\n",
       "  <thead>\n",
       "    <tr style=\"text-align: right;\">\n",
       "      <th></th>\n",
       "      <th>eventid</th>\n",
       "      <th>svmlabel1prob</th>\n",
       "      <th>attack_month</th>\n",
       "      <th>attack_day</th>\n",
       "      <th>stat_jammu_and_</th>\n",
       "      <th>stat_na</th>\n",
       "      <th>stat_assam</th>\n",
       "      <th>stat_manipur</th>\n",
       "      <th>stat_bihar</th>\n",
       "      <th>stat_maharashtr</th>\n",
       "      <th>...</th>\n",
       "      <th>dist_parganas_n</th>\n",
       "      <th>dist_sheopur</th>\n",
       "      <th>dist_dantewara</th>\n",
       "      <th>dist_mandsaur</th>\n",
       "      <th>dist_moradabad</th>\n",
       "      <th>dist_west_medin</th>\n",
       "      <th>dist_sikar</th>\n",
       "      <th>dist_almora</th>\n",
       "      <th>dist_datiya</th>\n",
       "      <th>dist_gautambudh</th>\n",
       "    </tr>\n",
       "    <tr>\n",
       "      <th>_unit_id</th>\n",
       "      <th></th>\n",
       "      <th></th>\n",
       "      <th></th>\n",
       "      <th></th>\n",
       "      <th></th>\n",
       "      <th></th>\n",
       "      <th></th>\n",
       "      <th></th>\n",
       "      <th></th>\n",
       "      <th></th>\n",
       "      <th></th>\n",
       "      <th></th>\n",
       "      <th></th>\n",
       "      <th></th>\n",
       "      <th></th>\n",
       "      <th></th>\n",
       "      <th></th>\n",
       "      <th></th>\n",
       "      <th></th>\n",
       "      <th></th>\n",
       "      <th></th>\n",
       "    </tr>\n",
       "  </thead>\n",
       "  <tbody>\n",
       "    <tr>\n",
       "      <th>711601341</th>\n",
       "      <td>3</td>\n",
       "      <td>0.997059</td>\n",
       "      <td>3</td>\n",
       "      <td>7</td>\n",
       "      <td>1</td>\n",
       "      <td>0</td>\n",
       "      <td>0</td>\n",
       "      <td>0</td>\n",
       "      <td>0</td>\n",
       "      <td>0</td>\n",
       "      <td>...</td>\n",
       "      <td>0</td>\n",
       "      <td>0</td>\n",
       "      <td>0</td>\n",
       "      <td>0</td>\n",
       "      <td>0</td>\n",
       "      <td>0</td>\n",
       "      <td>0</td>\n",
       "      <td>0</td>\n",
       "      <td>0</td>\n",
       "      <td>0</td>\n",
       "    </tr>\n",
       "    <tr>\n",
       "      <th>711601342</th>\n",
       "      <td>4</td>\n",
       "      <td>0.979219</td>\n",
       "      <td>3</td>\n",
       "      <td>7</td>\n",
       "      <td>1</td>\n",
       "      <td>0</td>\n",
       "      <td>0</td>\n",
       "      <td>0</td>\n",
       "      <td>0</td>\n",
       "      <td>0</td>\n",
       "      <td>...</td>\n",
       "      <td>0</td>\n",
       "      <td>0</td>\n",
       "      <td>0</td>\n",
       "      <td>0</td>\n",
       "      <td>0</td>\n",
       "      <td>0</td>\n",
       "      <td>0</td>\n",
       "      <td>0</td>\n",
       "      <td>0</td>\n",
       "      <td>0</td>\n",
       "    </tr>\n",
       "    <tr>\n",
       "      <th>711601343</th>\n",
       "      <td>13</td>\n",
       "      <td>0.948564</td>\n",
       "      <td>3</td>\n",
       "      <td>7</td>\n",
       "      <td>0</td>\n",
       "      <td>1</td>\n",
       "      <td>0</td>\n",
       "      <td>0</td>\n",
       "      <td>0</td>\n",
       "      <td>0</td>\n",
       "      <td>...</td>\n",
       "      <td>0</td>\n",
       "      <td>0</td>\n",
       "      <td>0</td>\n",
       "      <td>0</td>\n",
       "      <td>0</td>\n",
       "      <td>0</td>\n",
       "      <td>0</td>\n",
       "      <td>0</td>\n",
       "      <td>0</td>\n",
       "      <td>0</td>\n",
       "    </tr>\n",
       "    <tr>\n",
       "      <th>711601344</th>\n",
       "      <td>15</td>\n",
       "      <td>0.999999</td>\n",
       "      <td>3</td>\n",
       "      <td>7</td>\n",
       "      <td>0</td>\n",
       "      <td>0</td>\n",
       "      <td>1</td>\n",
       "      <td>0</td>\n",
       "      <td>0</td>\n",
       "      <td>0</td>\n",
       "      <td>...</td>\n",
       "      <td>0</td>\n",
       "      <td>0</td>\n",
       "      <td>0</td>\n",
       "      <td>0</td>\n",
       "      <td>0</td>\n",
       "      <td>0</td>\n",
       "      <td>0</td>\n",
       "      <td>0</td>\n",
       "      <td>0</td>\n",
       "      <td>0</td>\n",
       "    </tr>\n",
       "    <tr>\n",
       "      <th>711601345</th>\n",
       "      <td>41</td>\n",
       "      <td>0.858030</td>\n",
       "      <td>3</td>\n",
       "      <td>8</td>\n",
       "      <td>0</td>\n",
       "      <td>1</td>\n",
       "      <td>0</td>\n",
       "      <td>0</td>\n",
       "      <td>0</td>\n",
       "      <td>0</td>\n",
       "      <td>...</td>\n",
       "      <td>0</td>\n",
       "      <td>0</td>\n",
       "      <td>0</td>\n",
       "      <td>0</td>\n",
       "      <td>0</td>\n",
       "      <td>0</td>\n",
       "      <td>0</td>\n",
       "      <td>0</td>\n",
       "      <td>0</td>\n",
       "      <td>0</td>\n",
       "    </tr>\n",
       "  </tbody>\n",
       "</table>\n",
       "<p>5 rows × 578 columns</p>\n",
       "</div>"
      ],
      "text/plain": [
       "           eventid  svmlabel1prob  attack_month  attack_day  stat_jammu_and_  \\\n",
       "_unit_id                                                                       \n",
       "711601341        3       0.997059             3           7                1   \n",
       "711601342        4       0.979219             3           7                1   \n",
       "711601343       13       0.948564             3           7                0   \n",
       "711601344       15       0.999999             3           7                0   \n",
       "711601345       41       0.858030             3           8                0   \n",
       "\n",
       "           stat_na  stat_assam  stat_manipur  stat_bihar  stat_maharashtr  \\\n",
       "_unit_id                                                                    \n",
       "711601341        0           0             0           0                0   \n",
       "711601342        0           0             0           0                0   \n",
       "711601343        1           0             0           0                0   \n",
       "711601344        0           1             0           0                0   \n",
       "711601345        1           0             0           0                0   \n",
       "\n",
       "                ...         dist_parganas_n  dist_sheopur  dist_dantewara  \\\n",
       "_unit_id        ...                                                         \n",
       "711601341       ...                       0             0               0   \n",
       "711601342       ...                       0             0               0   \n",
       "711601343       ...                       0             0               0   \n",
       "711601344       ...                       0             0               0   \n",
       "711601345       ...                       0             0               0   \n",
       "\n",
       "           dist_mandsaur  dist_moradabad  dist_west_medin  dist_sikar  \\\n",
       "_unit_id                                                                \n",
       "711601341              0               0                0           0   \n",
       "711601342              0               0                0           0   \n",
       "711601343              0               0                0           0   \n",
       "711601344              0               0                0           0   \n",
       "711601345              0               0                0           0   \n",
       "\n",
       "           dist_almora  dist_datiya  dist_gautambudh  \n",
       "_unit_id                                              \n",
       "711601341            0            0                0  \n",
       "711601342            0            0                0  \n",
       "711601343            0            0                0  \n",
       "711601344            0            0                0  \n",
       "711601345            0            0                0  \n",
       "\n",
       "[5 rows x 578 columns]"
      ]
     },
     "execution_count": 29,
     "metadata": {},
     "output_type": "execute_result"
    }
   ],
   "source": [
    "X.head()"
   ]
  },
  {
   "cell_type": "code",
   "execution_count": 30,
   "metadata": {},
   "outputs": [
    {
     "name": "stderr",
     "output_type": "stream",
     "text": [
      "C:\\Users\\hp\\Anaconda3\\lib\\site-packages\\sklearn\\cross_validation.py:41: DeprecationWarning: This module was deprecated in version 0.18 in favor of the model_selection module into which all the refactored classes and functions are moved. Also note that the interface of the new CV iterators are different from that of this module. This module will be removed in 0.20.\n",
      "  \"This module will be removed in 0.20.\", DeprecationWarning)\n"
     ]
    }
   ],
   "source": [
    "from sklearn import cross_validation\n",
    "## Spliting of training dataset into 70% training data and 30% testing data randomly\n",
    "features_train, features_test, labels_train, labels_test = cross_validation.train_test_split(X, y, test_size=0.3, random_state=42)"
   ]
  },
  {
   "cell_type": "markdown",
   "metadata": {},
   "source": [
    "## Decission tree Classifier"
   ]
  },
  {
   "cell_type": "code",
   "execution_count": 52,
   "metadata": {},
   "outputs": [
    {
     "name": "stdout",
     "output_type": "stream",
     "text": [
      "Accuracy: 87.82%\n"
     ]
    }
   ],
   "source": [
    "## Decision Tree \n",
    "from sklearn import tree\n",
    "clf = tree.DecisionTreeClassifier()\n",
    "clf.fit(features_train, labels_train)\n",
    "prediction = clf.predict(features_test)\n",
    "## Computing accuracy\n",
    "from sklearn.metrics import accuracy_score\n",
    "print(\"Accuracy: %.2f%%\" % (accuracy * 100.0))"
   ]
  },
  {
   "cell_type": "markdown",
   "metadata": {},
   "source": [
    "## Gaussian Naive Bayes Classifier"
   ]
  },
  {
   "cell_type": "code",
   "execution_count": 55,
   "metadata": {},
   "outputs": [
    {
     "name": "stdout",
     "output_type": "stream",
     "text": [
      "Accuracy: 84.12%\n"
     ]
    }
   ],
   "source": [
    "## Gaussian Naive Bayes\n",
    "from sklearn.naive_bayes import GaussianNB\n",
    "clf = GaussianNB()\n",
    "clf.fit(features_train, labels_train)\n",
    "prediction = clf.predict(features_test)\n",
    "## Computing accuracy\n",
    "print(\"Accuracy: %.2f%%\" % (accuracy * 100.0))"
   ]
  },
  {
   "cell_type": "markdown",
   "metadata": {},
   "source": [
    "## SVM Classifier"
   ]
  },
  {
   "cell_type": "code",
   "execution_count": 56,
   "metadata": {},
   "outputs": [
    {
     "name": "stdout",
     "output_type": "stream",
     "text": [
      "Accuracy: 85.14%\n"
     ]
    }
   ],
   "source": [
    "## SVM \n",
    "from sklearn import svm\n",
    "clf = svm.SVC(kernel=\"rbf\") \n",
    "clf.fit(features_train, labels_train)\n",
    "prediction = clf.predict(features_test)\n",
    "## Computing accuracy\n",
    "print(\"Accuracy: %.2f%%\" % (accuracy * 100.0))"
   ]
  },
  {
   "cell_type": "code",
   "execution_count": null,
   "metadata": {
    "collapsed": true
   },
   "outputs": [],
   "source": []
  },
  {
   "cell_type": "markdown",
   "metadata": {
    "collapsed": true
   },
   "source": [
    "## APPROACH 02:"
   ]
  },
  {
   "cell_type": "code",
   "execution_count": 34,
   "metadata": {
    "collapsed": true
   },
   "outputs": [],
   "source": [
    "## Importing the classifier libraries\n",
    "from sklearn.datasets import make_classification\n",
    "from sklearn.linear_model import LogisticRegression\n",
    "from sklearn.ensemble import RandomForestClassifier, GradientBoostingClassifier, ExtraTreesClassifier\n",
    "from sklearn.svm import SVC\n",
    "from sklearn.neighbors import KNeighborsClassifier\n",
    "from sklearn.calibration import CalibratedClassifierCV\n",
    "from sklearn.cross_validation import train_test_split\n",
    "from sklearn.linear_model import LogisticRegressionCV\n",
    "from xgboost.sklearn import XGBClassifier\n"
   ]
  },
  {
   "cell_type": "code",
   "execution_count": 35,
   "metadata": {},
   "outputs": [
    {
     "name": "stdout",
     "output_type": "stream",
     "text": [
      "Data shape:\n",
      "X_trainA: (13200, 578), X_validA: (4400, 578), X_testA: (4400, 578) \n",
      "\n"
     ]
    }
   ],
   "source": [
    "random_state = 42\n",
    "\n",
    "#Spliting data into train and test sets.\n",
    "XA, X_testA, yA, y_testA = train_test_split(X, y, test_size=0.2, \n",
    "                                        random_state=random_state)\n",
    "    \n",
    "#Spliting train data into training and validation sets.\n",
    "X_trainA, X_validA, y_trainA, y_validA = train_test_split(XA, yA, test_size=0.25, \n",
    "                                                      random_state=random_state)\n",
    "\n",
    "print('Data shape:')\n",
    "print('X_trainA: %s, X_validA: %s, X_testA: %s \\n' %(X_trainA.shape, X_validA.shape, \n",
    "                                                     X_testA.shape))"
   ]
  },
  {
   "cell_type": "code",
   "execution_count": 36,
   "metadata": {},
   "outputs": [
    {
     "name": "stdout",
     "output_type": "stream",
     "text": [
      "Performance of individual classifiers (1st layer) on X_testA\n",
      "------------------------------------------------------------\n",
      "SVM:       logloss  => 1.1046597\n",
      "RF:        logloss  => 1.1587623\n",
      "GBM:       logloss  => 0.8833187\n",
      "KNN:       logloss  => 1.6210218\n",
      "\n"
     ]
    }
   ],
   "source": [
    "from sklearn.metrics import log_loss\n",
    "#Defining the classifiers\n",
    "clfs = { 'SVM' : SVC(probability=True, random_state=random_state), \n",
    "        'RF'  : RandomForestClassifier(n_estimators=100, n_jobs=-1, \n",
    "                                       random_state=random_state), \n",
    "        'GBM' : GradientBoostingClassifier(n_estimators=50, \n",
    "                                           random_state=random_state), \n",
    "        'KNN' : KNeighborsClassifier(n_neighbors=30)}\n",
    "    \n",
    "#predictions on the validation and test sets\n",
    "p_valid = []\n",
    "p_test = []\n",
    "   \n",
    "print('Performance of individual classifiers (1st layer) on X_testA')   \n",
    "print('------------------------------------------------------------')\n",
    "   \n",
    "for nm, clf in clfs.items():\n",
    "    #First run. Training on (X_trainA, y_trainA) and predicting on X_validA.\n",
    "    clf.fit(X_trainA, y_trainA)\n",
    "    yv = clf.predict_proba(X_validA)\n",
    "    p_valid.append(yv)\n",
    "        \n",
    "    #Second run. Training on (XA, yA) and predicting on X_testA.\n",
    "    clf.fit(XA, yA)\n",
    "    yt = clf.predict_proba(X_testA)\n",
    "    p_test.append(yt)\n",
    "       \n",
    "    #Printing out the performance of the classifier\n",
    "    print('{:10s} {:2s} {:1.7f}'.format('%s: ' %(nm), 'logloss  =>', log_loss(y_testA, yt)))\n",
    "print('')"
   ]
  },
  {
   "cell_type": "code",
   "execution_count": null,
   "metadata": {
    "collapsed": true
   },
   "outputs": [],
   "source": [
    "#from above logloss values we came to know that GBM has a less error rate \n",
    "#compared to other classification models"
   ]
  },
  {
   "cell_type": "code",
   "execution_count": 37,
   "metadata": {},
   "outputs": [
    {
     "name": "stdout",
     "output_type": "stream",
     "text": [
      "Log_Reg:             logloss  => 0.8631249\n"
     ]
    }
   ],
   "source": [
    "#Creating the data for the 2nd layer.\n",
    "XV = np.hstack(p_valid)\n",
    "XT = np.hstack(p_test)\n",
    "\n",
    "#By default the best C parameter is obtained with a cross-validation approach, doing grid search with\n",
    "#10 values defined in a logarithmic scale between 1e-4 and 1e4.\n",
    "#Change parameters to see how they affect the final results.\n",
    "lr = LogisticRegressionCV(Cs=10, dual=False, fit_intercept=True, \n",
    "                          intercept_scaling=1.0, max_iter=25,\n",
    "                          multi_class='ovr', n_jobs=1, penalty='l2', \n",
    "                          random_state=random_state,\n",
    "                          solver='lbfgs', tol=0.0001)\n",
    "\n",
    "lr.fit(XV, y_validA)\n",
    "y_lr = lr.predict_proba(XT)\n",
    "print('{:20s} {:2s} {:1.7f}'.format('Log_Reg:', 'logloss  =>', log_loss(y_testA, y_lr)))"
   ]
  },
  {
   "cell_type": "markdown",
   "metadata": {},
   "source": [
    "## XGBoost Classifier"
   ]
  },
  {
   "cell_type": "code",
   "execution_count": 46,
   "metadata": {},
   "outputs": [
    {
     "name": "stdout",
     "output_type": "stream",
     "text": [
      "Accuracy: 83.72%\n"
     ]
    }
   ],
   "source": [
    "\n",
    "# train-test split evaluation of xgboost model\n",
    "#from numpy import loadtxt\n",
    "#from xgboost import XGBClassifier\n",
    "#from sklearn.model_selection import train_test_split\n",
    "#from sklearn.metrics import accuracy_score\n",
    "\n",
    "# split data into train and test sets\n",
    "X_train, X_test, y_train, y_test = train_test_split(XA, yA, test_size=0.33, random_state=7)\n",
    "# fit model no training data\n",
    "model = XGBClassifier()\n",
    "model.fit(X_train, y_train)\n",
    "# make predictions for test data\n",
    "y_pred = model.predict(X_test)\n",
    "predictions = [round(value) for value in y_pred]\n",
    "# evaluate predictions\n",
    "accuracy = accuracy_score(y_test, predictions)\n",
    "print(\"Accuracy: %.2f%%\" % (accuracy * 100.0))"
   ]
  },
  {
   "cell_type": "code",
   "execution_count": null,
   "metadata": {
    "collapsed": true
   },
   "outputs": [],
   "source": []
  }
 ],
 "metadata": {
  "kernelspec": {
   "display_name": "Python 3",
   "language": "python",
   "name": "python3"
  },
  "language_info": {
   "codemirror_mode": {
    "name": "ipython",
    "version": 3
   },
   "file_extension": ".py",
   "mimetype": "text/x-python",
   "name": "python",
   "nbconvert_exporter": "python",
   "pygments_lexer": "ipython3",
   "version": "3.6.1"
  }
 },
 "nbformat": 4,
 "nbformat_minor": 1
}
